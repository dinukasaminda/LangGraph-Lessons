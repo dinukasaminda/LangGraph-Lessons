{
 "cells": [
  {
   "cell_type": "markdown",
   "metadata": {},
   "source": [
    "## State"
   ]
  },
  {
   "cell_type": "code",
   "execution_count": 2,
   "metadata": {},
   "outputs": [],
   "source": [
    "from typing import TypedDict"
   ]
  },
  {
   "cell_type": "code",
   "execution_count": 3,
   "metadata": {},
   "outputs": [],
   "source": [
    "class State(TypedDict):\n",
    "    input: str\n",
    "    assigned__node: int \n",
    "    prev_node_to_write: int\n",
    "    \n"
   ]
  },
  {
   "cell_type": "markdown",
   "metadata": {},
   "source": [
    "## Nodes"
   ]
  },
  {
   "cell_type": "code",
   "execution_count": 4,
   "metadata": {},
   "outputs": [],
   "source": [
    "import random\n",
    "\n",
    "# Node must be return a dict with the same keys as the State\n",
    "def bad_manager_node(state: State) -> State:\n",
    "    node_number = random.randint(1, 2)\n",
    "    return dict(\n",
    "        input=state[\"input\"],\n",
    "        assigned_node=node_number,\n",
    "        prev_node_to_write=\"manager\",\n",
    "    )\n",
    "\n",
    "def node_1(state: State) -> State:\n",
    "    return dict(\n",
    "        input=state[\"input\"],\n",
    "        assigned_node=1 if 'node 1' in state['input'].content else 2,\n",
    "        prev_node_to_write=1,\n",
    "    )\n",
    "\n",
    "def node_2(state: State) -> State:\n",
    "    return dict(\n",
    "        input=state[\"input\"],\n",
    "        assigned_node=1 if 'node 2' in state['input'].content else 2,\n",
    "        prev_node_to_write=2,\n",
    "    )\n"
   ]
  },
  {
   "cell_type": "markdown",
   "metadata": {},
   "source": [
    "## Conditional Edges & Routing Functions\n",
    "\n",
    "Conditional edges and routing functions, and use the terms interchangeably. I would like to clarify beforehand that a routing function is the python function that contains logic to route the state of the graph to specific nodes.  We can build the conditional edges of our graphs by attaching routing functions to the nodes.\n",
    "\n",
    "![Alt text](URL)\n",
    "\n"
   ]
  },
  {
   "cell_type": "code",
   "execution_count": null,
   "metadata": {},
   "outputs": [],
   "source": []
  }
 ],
 "metadata": {
  "kernelspec": {
   "display_name": "llm-res",
   "language": "python",
   "name": "python3"
  },
  "language_info": {
   "codemirror_mode": {
    "name": "ipython",
    "version": 3
   },
   "file_extension": ".py",
   "mimetype": "text/x-python",
   "name": "python",
   "nbconvert_exporter": "python",
   "pygments_lexer": "ipython3",
   "version": "3.10.12"
  }
 },
 "nbformat": 4,
 "nbformat_minor": 2
}
