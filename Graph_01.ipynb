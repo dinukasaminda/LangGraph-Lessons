{
 "cells": [
  {
   "cell_type": "code",
   "execution_count": 61,
   "metadata": {},
   "outputs": [],
   "source": [
    "# !pip install langgraph"
   ]
  },
  {
   "cell_type": "markdown",
   "metadata": {},
   "source": [
    "## State"
   ]
  },
  {
   "cell_type": "code",
   "execution_count": 62,
   "metadata": {},
   "outputs": [],
   "source": [
    "from typing import TypedDict"
   ]
  },
  {
   "cell_type": "code",
   "execution_count": 63,
   "metadata": {},
   "outputs": [],
   "source": [
    "class State(TypedDict):\n",
    "    input: str\n",
    "    assigned_node: str \n",
    "    prev_node_to_write: str\n",
    "    \n"
   ]
  },
  {
   "cell_type": "markdown",
   "metadata": {},
   "source": [
    "## Nodes"
   ]
  },
  {
   "cell_type": "code",
   "execution_count": 64,
   "metadata": {},
   "outputs": [],
   "source": [
    "import random\n",
    "\n",
    "# Node must be return a dict with the same keys as the State\n",
    "def bad_manager_node(state: State) -> State:\n",
    "    node_number = random.randint(1, 2)\n",
    "    return dict(\n",
    "        input=state[\"input\"],\n",
    "        assigned_node=\"node_\" + str(node_number),\n",
    "        prev_node_to_write=\"manager\",\n",
    "    )\n",
    "\n",
    "def node_1(state: State) -> State:\n",
    "    return dict(\n",
    "        input=state[\"input\"],\n",
    "        assigned_node='node_1' if 'node 1' in state['input'].content else 'node_2',\n",
    "        prev_node_to_write='node_1',\n",
    "    )\n",
    "\n",
    "def node_2(state: State) -> State:\n",
    "    return dict(\n",
    "        input=state[\"input\"],\n",
    "        assigned_node='node_2' if 'node 2' in state['input'].content else 'node_1',\n",
    "        prev_node_to_write='node_2',\n",
    "    )\n"
   ]
  },
  {
   "cell_type": "markdown",
   "metadata": {},
   "source": [
    "## Conditional Edges & Routing Functions\n",
    "\n",
    "Conditional edges and routing functions, and use the terms interchangeably. I would like to clarify beforehand that a routing function is the python function that contains logic to route the state of the graph to specific nodes.  We can build the conditional edges of our graphs by attaching routing functions to the nodes.\n",
    "\n",
    "![Workflow 01](https://github.com/dinukasaminda/LangGraph-Lessons/blob/main/workflows_drafts/workflow_01.png?raw=true)\n",
    "\n"
   ]
  },
  {
   "cell_type": "code",
   "execution_count": 65,
   "metadata": {},
   "outputs": [],
   "source": [
    "from typing import Literal\n",
    "from langgraph.graph import END\n",
    "\n",
    "def bad_manager_node_assigner(state: State) -> Literal['node_1', 'node_2']:\n",
    "    assigned_node = state[\"assigned_node\"]\n",
    "    if assigned_node == 'node_1':\n",
    "        return 'node_1'\n",
    "    else:\n",
    "        return 'node_2'\n",
    "\n",
    "def should_reassing_1(state)-> Literal['node_2', END]:\n",
    "    assigned_node = state[\"assigned_node\"]\n",
    "    if assigned_node != 'node_1':\n",
    "        return 'node_2'\n",
    "    return END\n",
    "    \n",
    "def should_reassing_2(state)-> Literal['node_1', END]:\n",
    "    assigned_node = state[\"assigned_node\"]\n",
    "    if assigned_node != 'node_2':\n",
    "        return 'node_1'\n",
    "    return END\n",
    "\n",
    "\n"
   ]
  },
  {
   "cell_type": "markdown",
   "metadata": {},
   "source": [
    "## Build Graph"
   ]
  },
  {
   "cell_type": "code",
   "execution_count": 66,
   "metadata": {},
   "outputs": [],
   "source": [
    "from langgraph.graph import StateGraph\n",
    "\n",
    "workflow = StateGraph(State)\n",
    "\n",
    "# Add nodes\n",
    "workflow.add_node(\"manager\", bad_manager_node)\n",
    "workflow.add_node(\"node_1\", node_1)\n",
    "workflow.add_node(\"node_2\", node_2)\n",
    "\n",
    "# Set entry point\n",
    "workflow.set_entry_point(\"manager\")\n",
    "\n",
    "# Add edges\n",
    "workflow.add_conditional_edges(\n",
    "    \"manager\",\n",
    "    bad_manager_node_assigner\n",
    ")\n",
    "\n",
    "workflow.add_conditional_edges(\n",
    "    \"node_1\",\n",
    "    should_reassing_1\n",
    ")\n",
    "\n",
    "workflow.add_conditional_edges(\n",
    "    \"node_2\",\n",
    "    should_reassing_2\n",
    ")\n",
    "\n",
    "graph = workflow.compile()"
   ]
  },
  {
   "cell_type": "code",
   "execution_count": 67,
   "metadata": {},
   "outputs": [
    {
     "data": {
      "image/png": "[encoded data removed]",
      "text/plain": [
       "<IPython.core.display.Image object>"
      ]
     },
     "metadata": {},
     "output_type": "display_data"
    }
   ],
   "source": [
    "from IPython.display import Image, display\n",
    "from langchain_core.runnables.graph import CurveStyle, MermaidDrawMethod\n",
    "\n",
    "display(\n",
    "    Image(\n",
    "        graph.get_graph().draw_mermaid_png(\n",
    "            draw_method=MermaidDrawMethod.API\n",
    "        )\n",
    "    )\n",
    ")\n",
    "\n",
    "\n",
    "\n",
    "\n",
    "\n"
   ]
  },
  {
   "cell_type": "markdown",
   "metadata": {},
   "source": [
    "## Test the graph\n"
   ]
  },
  {
   "cell_type": "code",
   "execution_count": 73,
   "metadata": {},
   "outputs": [
    {
     "name": "stdout",
     "output_type": "stream",
     "text": [
      "{'manager': {'input': HumanMessage(content='Assign this task to node 1', additional_kwargs={}, response_metadata={}), 'assigned_node': 'node_2', 'prev_node_to_write': 'manager'}}\n",
      "{'node_2': {'input': HumanMessage(content='Assign this task to node 1', additional_kwargs={}, response_metadata={}), 'assigned_node': 'node_1', 'prev_node_to_write': 'node_2'}}\n",
      "{'node_1': {'input': HumanMessage(content='Assign this task to node 1', additional_kwargs={}, response_metadata={}), 'assigned_node': 'node_1', 'prev_node_to_write': 'node_1'}}\n"
     ]
    }
   ],
   "source": [
    "from langchain_core.messages import HumanMessage\n",
    "\n",
    "config = {\"configurable\": {\"thread_id\": 1}}\n",
    "\n",
    "input = HumanMessage(content=\"Assign this task to node 1\")\n",
    "\n",
    "\n",
    "for event in graph.stream({\n",
    "                                \"input\": input\n",
    "                            }, config=config):\n",
    "    print(event)\n"
   ]
  }
 ],
 "metadata": {
  "kernelspec": {
   "display_name": "llm-res",
   "language": "python",
   "name": "python3"
  },
  "language_info": {
   "codemirror_mode": {
    "name": "ipython",
    "version": 3
   },
   "file_extension": ".py",
   "mimetype": "text/x-python",
   "name": "python",
   "nbconvert_exporter": "python",
   "pygments_lexer": "ipython3",
   "version": "3.10.12"
  }
 },
 "nbformat": 4,
 "nbformat_minor": 2
}
