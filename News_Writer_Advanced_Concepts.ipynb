{
  "nbformat": 4,
  "nbformat_minor": 0,
  "metadata": {
    "colab": {
      "provenance": [],
      "collapsed_sections": [
        "E329p8lR6RYb"
      ]
    },
    "kernelspec": {
      "name": "python3",
      "display_name": "Python 3"
    },
    "language_info": {
      "name": "python"
    }
  },
  "cells": [
    {
      "cell_type": "code",
      "execution_count": null,
      "metadata": {
        "colab": {
          "base_uri": "https://localhost:8080/"
        },
        "id": "fD5zyGvi1sqP",
        "outputId": "01bfbc4e-a540-48a8-e14f-fab4c5c8c945"
      },
      "outputs": [
        {
          "output_type": "stream",
          "name": "stdout",
          "text": [
            "Collecting langgraph\n",
            "  Downloading langgraph-0.1.19-py3-none-any.whl.metadata (13 kB)\n",
            "Collecting langchain_openai\n",
            "  Downloading langchain_openai-0.1.20-py3-none-any.whl.metadata (2.6 kB)\n",
            "Collecting langchain_community\n",
            "  Downloading langchain_community-0.2.10-py3-none-any.whl.metadata (2.7 kB)\n",
            "Collecting python-dotenv\n",
            "  Downloading python_dotenv-1.0.1-py3-none-any.whl.metadata (23 kB)\n",
            "Collecting langchain-core<0.3,>=0.2.22 (from langgraph)\n",
            "  Downloading langchain_core-0.2.26-py3-none-any.whl.metadata (6.2 kB)\n",
            "Collecting openai<2.0.0,>=1.32.0 (from langchain_openai)\n",
            "  Downloading openai-1.37.1-py3-none-any.whl.metadata (22 kB)\n",
            "Collecting tiktoken<1,>=0.7 (from langchain_openai)\n",
            "  Downloading tiktoken-0.7.0-cp310-cp310-manylinux_2_17_x86_64.manylinux2014_x86_64.whl.metadata (6.6 kB)\n",
            "Requirement already satisfied: PyYAML>=5.3 in /usr/local/lib/python3.10/dist-packages (from langchain_community) (6.0.1)\n",
            "Requirement already satisfied: SQLAlchemy<3,>=1.4 in /usr/local/lib/python3.10/dist-packages (from langchain_community) (2.0.31)\n",
            "Requirement already satisfied: aiohttp<4.0.0,>=3.8.3 in /usr/local/lib/python3.10/dist-packages (from langchain_community) (3.9.5)\n",
            "Collecting dataclasses-json<0.7,>=0.5.7 (from langchain_community)\n",
            "  Downloading dataclasses_json-0.6.7-py3-none-any.whl.metadata (25 kB)\n",
            "Collecting langchain<0.3.0,>=0.2.9 (from langchain_community)\n",
            "  Downloading langchain-0.2.11-py3-none-any.whl.metadata (7.1 kB)\n",
            "Collecting langsmith<0.2.0,>=0.1.0 (from langchain_community)\n",
            "  Downloading langsmith-0.1.95-py3-none-any.whl.metadata (13 kB)\n",
            "Requirement already satisfied: numpy<2,>=1 in /usr/local/lib/python3.10/dist-packages (from langchain_community) (1.26.4)\n",
            "Requirement already satisfied: requests<3,>=2 in /usr/local/lib/python3.10/dist-packages (from langchain_community) (2.31.0)\n",
            "Collecting tenacity!=8.4.0,<9.0.0,>=8.1.0 (from langchain_community)\n",
            "  Downloading tenacity-8.5.0-py3-none-any.whl.metadata (1.2 kB)\n",
            "Requirement already satisfied: aiosignal>=1.1.2 in /usr/local/lib/python3.10/dist-packages (from aiohttp<4.0.0,>=3.8.3->langchain_community) (1.3.1)\n",
            "Requirement already satisfied: attrs>=17.3.0 in /usr/local/lib/python3.10/dist-packages (from aiohttp<4.0.0,>=3.8.3->langchain_community) (23.2.0)\n",
            "Requirement already satisfied: frozenlist>=1.1.1 in /usr/local/lib/python3.10/dist-packages (from aiohttp<4.0.0,>=3.8.3->langchain_community) (1.4.1)\n",
            "Requirement already satisfied: multidict<7.0,>=4.5 in /usr/local/lib/python3.10/dist-packages (from aiohttp<4.0.0,>=3.8.3->langchain_community) (6.0.5)\n",
            "Requirement already satisfied: yarl<2.0,>=1.0 in /usr/local/lib/python3.10/dist-packages (from aiohttp<4.0.0,>=3.8.3->langchain_community) (1.9.4)\n",
            "Requirement already satisfied: async-timeout<5.0,>=4.0 in /usr/local/lib/python3.10/dist-packages (from aiohttp<4.0.0,>=3.8.3->langchain_community) (4.0.3)\n",
            "Collecting marshmallow<4.0.0,>=3.18.0 (from dataclasses-json<0.7,>=0.5.7->langchain_community)\n",
            "  Downloading marshmallow-3.21.3-py3-none-any.whl.metadata (7.1 kB)\n",
            "Collecting typing-inspect<1,>=0.4.0 (from dataclasses-json<0.7,>=0.5.7->langchain_community)\n",
            "  Downloading typing_inspect-0.9.0-py3-none-any.whl.metadata (1.5 kB)\n",
            "Collecting langchain-text-splitters<0.3.0,>=0.2.0 (from langchain<0.3.0,>=0.2.9->langchain_community)\n",
            "  Downloading langchain_text_splitters-0.2.2-py3-none-any.whl.metadata (2.1 kB)\n",
            "Requirement already satisfied: pydantic<3,>=1 in /usr/local/lib/python3.10/dist-packages (from langchain<0.3.0,>=0.2.9->langchain_community) (2.8.2)\n",
            "Collecting jsonpatch<2.0,>=1.33 (from langchain-core<0.3,>=0.2.22->langgraph)\n",
            "  Downloading jsonpatch-1.33-py2.py3-none-any.whl.metadata (3.0 kB)\n",
            "Requirement already satisfied: packaging<25,>=23.2 in /usr/local/lib/python3.10/dist-packages (from langchain-core<0.3,>=0.2.22->langgraph) (24.1)\n",
            "Requirement already satisfied: typing-extensions>=4.7 in /usr/local/lib/python3.10/dist-packages (from langchain-core<0.3,>=0.2.22->langgraph) (4.12.2)\n",
            "Collecting orjson<4.0.0,>=3.9.14 (from langsmith<0.2.0,>=0.1.0->langchain_community)\n",
            "  Downloading orjson-3.10.6-cp310-cp310-manylinux_2_17_x86_64.manylinux2014_x86_64.whl.metadata (50 kB)\n",
            "\u001b[2K     \u001b[90m━━━━━━━━━━━━━━━━━━━━━━━━━━━━━━━━━━━━━━━━\u001b[0m \u001b[32m50.4/50.4 kB\u001b[0m \u001b[31m427.9 kB/s\u001b[0m eta \u001b[36m0:00:00\u001b[0m\n",
            "\u001b[?25hRequirement already satisfied: anyio<5,>=3.5.0 in /usr/local/lib/python3.10/dist-packages (from openai<2.0.0,>=1.32.0->langchain_openai) (3.7.1)\n",
            "Requirement already satisfied: distro<2,>=1.7.0 in /usr/lib/python3/dist-packages (from openai<2.0.0,>=1.32.0->langchain_openai) (1.7.0)\n",
            "Collecting httpx<1,>=0.23.0 (from openai<2.0.0,>=1.32.0->langchain_openai)\n",
            "  Downloading httpx-0.27.0-py3-none-any.whl.metadata (7.2 kB)\n",
            "Requirement already satisfied: sniffio in /usr/local/lib/python3.10/dist-packages (from openai<2.0.0,>=1.32.0->langchain_openai) (1.3.1)\n",
            "Requirement already satisfied: tqdm>4 in /usr/local/lib/python3.10/dist-packages (from openai<2.0.0,>=1.32.0->langchain_openai) (4.66.4)\n",
            "Requirement already satisfied: charset-normalizer<4,>=2 in /usr/local/lib/python3.10/dist-packages (from requests<3,>=2->langchain_community) (3.3.2)\n",
            "Requirement already satisfied: idna<4,>=2.5 in /usr/local/lib/python3.10/dist-packages (from requests<3,>=2->langchain_community) (3.7)\n",
            "Requirement already satisfied: urllib3<3,>=1.21.1 in /usr/local/lib/python3.10/dist-packages (from requests<3,>=2->langchain_community) (2.0.7)\n",
            "Requirement already satisfied: certifi>=2017.4.17 in /usr/local/lib/python3.10/dist-packages (from requests<3,>=2->langchain_community) (2024.7.4)\n",
            "Requirement already satisfied: greenlet!=0.4.17 in /usr/local/lib/python3.10/dist-packages (from SQLAlchemy<3,>=1.4->langchain_community) (3.0.3)\n",
            "Requirement already satisfied: regex>=2022.1.18 in /usr/local/lib/python3.10/dist-packages (from tiktoken<1,>=0.7->langchain_openai) (2024.5.15)\n",
            "Requirement already satisfied: exceptiongroup in /usr/local/lib/python3.10/dist-packages (from anyio<5,>=3.5.0->openai<2.0.0,>=1.32.0->langchain_openai) (1.2.2)\n",
            "Collecting httpcore==1.* (from httpx<1,>=0.23.0->openai<2.0.0,>=1.32.0->langchain_openai)\n",
            "  Downloading httpcore-1.0.5-py3-none-any.whl.metadata (20 kB)\n",
            "Collecting h11<0.15,>=0.13 (from httpcore==1.*->httpx<1,>=0.23.0->openai<2.0.0,>=1.32.0->langchain_openai)\n",
            "  Downloading h11-0.14.0-py3-none-any.whl.metadata (8.2 kB)\n",
            "Collecting jsonpointer>=1.9 (from jsonpatch<2.0,>=1.33->langchain-core<0.3,>=0.2.22->langgraph)\n",
            "  Downloading jsonpointer-3.0.0-py2.py3-none-any.whl.metadata (2.3 kB)\n",
            "Requirement already satisfied: annotated-types>=0.4.0 in /usr/local/lib/python3.10/dist-packages (from pydantic<3,>=1->langchain<0.3.0,>=0.2.9->langchain_community) (0.7.0)\n",
            "Requirement already satisfied: pydantic-core==2.20.1 in /usr/local/lib/python3.10/dist-packages (from pydantic<3,>=1->langchain<0.3.0,>=0.2.9->langchain_community) (2.20.1)\n",
            "Collecting mypy-extensions>=0.3.0 (from typing-inspect<1,>=0.4.0->dataclasses-json<0.7,>=0.5.7->langchain_community)\n",
            "  Downloading mypy_extensions-1.0.0-py3-none-any.whl.metadata (1.1 kB)\n",
            "Downloading langgraph-0.1.19-py3-none-any.whl (102 kB)\n",
            "\u001b[2K   \u001b[90m━━━━━━━━━━━━━━━━━━━━━━━━━━━━━━━━━━━━━━━━\u001b[0m \u001b[32m102.6/102.6 kB\u001b[0m \u001b[31m4.9 MB/s\u001b[0m eta \u001b[36m0:00:00\u001b[0m\n",
            "\u001b[?25hDownloading langchain_openai-0.1.20-py3-none-any.whl (48 kB)\n",
            "\u001b[2K   \u001b[90m━━━━━━━━━━━━━━━━━━━━━━━━━━━━━━━━━━━━━━━━\u001b[0m \u001b[32m48.2/48.2 kB\u001b[0m \u001b[31m2.9 MB/s\u001b[0m eta \u001b[36m0:00:00\u001b[0m\n",
            "\u001b[?25hDownloading langchain_community-0.2.10-py3-none-any.whl (2.3 MB)\n",
            "\u001b[2K   \u001b[90m━━━━━━━━━━━━━━━━━━━━━━━━━━━━━━━━━━━━━━━━\u001b[0m \u001b[32m2.3/2.3 MB\u001b[0m \u001b[31m45.2 MB/s\u001b[0m eta \u001b[36m0:00:00\u001b[0m\n",
            "\u001b[?25hDownloading python_dotenv-1.0.1-py3-none-any.whl (19 kB)\n",
            "Downloading dataclasses_json-0.6.7-py3-none-any.whl (28 kB)\n",
            "Downloading langchain-0.2.11-py3-none-any.whl (990 kB)\n",
            "\u001b[2K   \u001b[90m━━━━━━━━━━━━━━━━━━━━━━━━━━━━━━━━━━━━━━━━\u001b[0m \u001b[32m990.3/990.3 kB\u001b[0m \u001b[31m35.0 MB/s\u001b[0m eta \u001b[36m0:00:00\u001b[0m\n",
            "\u001b[?25hDownloading langchain_core-0.2.26-py3-none-any.whl (378 kB)\n",
            "\u001b[2K   \u001b[90m━━━━━━━━━━━━━━━━━━━━━━━━━━━━━━━━━━━━━━━━\u001b[0m \u001b[32m378.9/378.9 kB\u001b[0m \u001b[31m16.8 MB/s\u001b[0m eta \u001b[36m0:00:00\u001b[0m\n",
            "\u001b[?25hDownloading langsmith-0.1.95-py3-none-any.whl (275 kB)\n",
            "\u001b[2K   \u001b[90m━━━━━━━━━━━━━━━━━━━━━━━━━━━━━━━━━━━━━━━━\u001b[0m \u001b[32m275.8/275.8 kB\u001b[0m \u001b[31m13.5 MB/s\u001b[0m eta \u001b[36m0:00:00\u001b[0m\n",
            "\u001b[?25hDownloading openai-1.37.1-py3-none-any.whl (337 kB)\n",
            "\u001b[2K   \u001b[90m━━━━━━━━━━━━━━━━━━━━━━━━━━━━━━━━━━━━━━━━\u001b[0m \u001b[32m337.0/337.0 kB\u001b[0m \u001b[31m17.3 MB/s\u001b[0m eta \u001b[36m0:00:00\u001b[0m\n",
            "\u001b[?25hDownloading tenacity-8.5.0-py3-none-any.whl (28 kB)\n",
            "Downloading tiktoken-0.7.0-cp310-cp310-manylinux_2_17_x86_64.manylinux2014_x86_64.whl (1.1 MB)\n",
            "\u001b[2K   \u001b[90m━━━━━━━━━━━━━━━━━━━━━━━━━━━━━━━━━━━━━━━━\u001b[0m \u001b[32m1.1/1.1 MB\u001b[0m \u001b[31m32.2 MB/s\u001b[0m eta \u001b[36m0:00:00\u001b[0m\n",
            "\u001b[?25hDownloading httpx-0.27.0-py3-none-any.whl (75 kB)\n",
            "\u001b[2K   \u001b[90m━━━━━━━━━━━━━━━━━━━━━━━━━━━━━━━━━━━━━━━━\u001b[0m \u001b[32m75.6/75.6 kB\u001b[0m \u001b[31m4.6 MB/s\u001b[0m eta \u001b[36m0:00:00\u001b[0m\n",
            "\u001b[?25hDownloading httpcore-1.0.5-py3-none-any.whl (77 kB)\n",
            "\u001b[2K   \u001b[90m━━━━━━━━━━━━━━━━━━━━━━━━━━━━━━━━━━━━━━━━\u001b[0m \u001b[32m77.9/77.9 kB\u001b[0m \u001b[31m4.8 MB/s\u001b[0m eta \u001b[36m0:00:00\u001b[0m\n",
            "\u001b[?25hDownloading jsonpatch-1.33-py2.py3-none-any.whl (12 kB)\n",
            "Downloading langchain_text_splitters-0.2.2-py3-none-any.whl (25 kB)\n",
            "Downloading marshmallow-3.21.3-py3-none-any.whl (49 kB)\n",
            "\u001b[2K   \u001b[90m━━━━━━━━━━━━━━━━━━━━━━━━━━━━━━━━━━━━━━━━\u001b[0m \u001b[32m49.2/49.2 kB\u001b[0m \u001b[31m2.3 MB/s\u001b[0m eta \u001b[36m0:00:00\u001b[0m\n",
            "\u001b[?25hDownloading orjson-3.10.6-cp310-cp310-manylinux_2_17_x86_64.manylinux2014_x86_64.whl (141 kB)\n",
            "\u001b[2K   \u001b[90m━━━━━━━━━━━━━━━━━━━━━━━━━━━━━━━━━━━━━━━━\u001b[0m \u001b[32m141.1/141.1 kB\u001b[0m \u001b[31m7.4 MB/s\u001b[0m eta \u001b[36m0:00:00\u001b[0m\n",
            "\u001b[?25hDownloading typing_inspect-0.9.0-py3-none-any.whl (8.8 kB)\n",
            "Downloading jsonpointer-3.0.0-py2.py3-none-any.whl (7.6 kB)\n",
            "Downloading mypy_extensions-1.0.0-py3-none-any.whl (4.7 kB)\n",
            "Downloading h11-0.14.0-py3-none-any.whl (58 kB)\n",
            "\u001b[2K   \u001b[90m━━━━━━━━━━━━━━━━━━━━━━━━━━━━━━━━━━━━━━━━\u001b[0m \u001b[32m58.3/58.3 kB\u001b[0m \u001b[31m2.9 MB/s\u001b[0m eta \u001b[36m0:00:00\u001b[0m\n",
            "\u001b[?25hInstalling collected packages: tenacity, python-dotenv, orjson, mypy-extensions, marshmallow, jsonpointer, h11, typing-inspect, tiktoken, jsonpatch, httpcore, langsmith, httpx, dataclasses-json, openai, langchain-core, langgraph, langchain-text-splitters, langchain_openai, langchain, langchain_community\n",
            "  Attempting uninstall: tenacity\n",
            "    Found existing installation: tenacity 9.0.0\n",
            "    Uninstalling tenacity-9.0.0:\n",
            "      Successfully uninstalled tenacity-9.0.0\n",
            "Successfully installed dataclasses-json-0.6.7 h11-0.14.0 httpcore-1.0.5 httpx-0.27.0 jsonpatch-1.33 jsonpointer-3.0.0 langchain-0.2.11 langchain-core-0.2.26 langchain-text-splitters-0.2.2 langchain_community-0.2.10 langchain_openai-0.1.20 langgraph-0.1.19 langsmith-0.1.95 marshmallow-3.21.3 mypy-extensions-1.0.0 openai-1.37.1 orjson-3.10.6 python-dotenv-1.0.1 tenacity-8.5.0 tiktoken-0.7.0 typing-inspect-0.9.0\n"
          ]
        }
      ],
      "source": [
        "!pip install -U langgraph langchain_openai langchain_community python-dotenv"
      ]
    },
    {
      "cell_type": "code",
      "source": [
        "import os\n",
        "\n",
        "os.environ[\"OPENAI_API_KEY\"] = \"YOUR API KEY\"\n",
        "os.environ[\"TAVILY_API_KEY\"] = \"YOUR API KEY\""
      ],
      "metadata": {
        "id": "T9hTJnQ21wzC"
      },
      "execution_count": null,
      "outputs": []
    },
    {
      "cell_type": "markdown",
      "source": [
        "### Adding Reflection"
      ],
      "metadata": {
        "id": "tLa-rxAgUGp1"
      }
    },
    {
      "cell_type": "markdown",
      "source": [
        "#### Defining Graph State"
      ],
      "metadata": {
        "id": "acUQ_mOy2I0I"
      }
    },
    {
      "cell_type": "code",
      "source": [
        "from typing import Annotated, Literal, TypedDict\n",
        "from langgraph.graph.message import add_messages\n",
        "\n",
        "\n",
        "class AgentState(TypedDict):\n",
        "    messages: Annotated[list, add_messages]"
      ],
      "metadata": {
        "id": "vffqdQ7A1-HL"
      },
      "execution_count": null,
      "outputs": []
    },
    {
      "cell_type": "markdown",
      "source": [
        "#### Defining Tools"
      ],
      "metadata": {
        "id": "_NdgjH_H2N7x"
      }
    },
    {
      "cell_type": "code",
      "source": [
        "from langchain_community.tools.tavily_search import TavilySearchResults\n",
        "\n",
        "\n",
        "# Define the tools for the agents to use\n",
        "tools = [TavilySearchResults(max_results=5)]"
      ],
      "metadata": {
        "id": "9GJEwqMa2Kw3"
      },
      "execution_count": null,
      "outputs": []
    },
    {
      "cell_type": "markdown",
      "source": [
        "#### Creating Agents"
      ],
      "metadata": {
        "id": "IwvzYa5U2SZv"
      }
    },
    {
      "cell_type": "code",
      "source": [
        "from langchain_core.messages import (\n",
        "    BaseMessage,\n",
        "    HumanMessage,\n",
        "    ToolMessage,\n",
        "    AIMessage\n",
        ")\n",
        "from langchain_core.prompts import ChatPromptTemplate, MessagesPlaceholder\n",
        "\n",
        "\n",
        "def create_agent(llm, tools, system_message: str):\n",
        "    \"\"\"Create an agent.\"\"\"\n",
        "    prompt = ChatPromptTemplate.from_messages(\n",
        "        [\n",
        "            (\n",
        "                \"system\",\n",
        "                \"{system_message}\",\n",
        "            ),\n",
        "            MessagesPlaceholder(variable_name=\"messages\"),\n",
        "        ]\n",
        "    )\n",
        "    prompt = prompt.partial(system_message=system_message)\n",
        "    if tools:\n",
        "      return prompt | llm.bind_tools(tools)\n",
        "    else:\n",
        "      return prompt | llm"
      ],
      "metadata": {
        "id": "PDk4qEbj2PuC"
      },
      "execution_count": null,
      "outputs": []
    },
    {
      "cell_type": "code",
      "source": [
        "search_template = \"\"\"Your job is to search the web for stock market related news that would be relevant to to generate the article described by the user.\n",
        "\n",
        "                     NOTE: When providing the news articles retrieved to the Outliner, you need to give the Outliner all of the articles you have retrieved that are relevant.\n",
        "                     The format should be:\n",
        "\n",
        "                     1. <article 1>\n",
        "                     2. <article 2>\n",
        "                     ...\n",
        "                  \"\"\"\n",
        "\n",
        "outliner_template = \"\"\"Your job is to take as input a list of articles from the web along with users instruction on what article they want to write and generate an outline\n",
        "                       for the article. This means you are giving clear instructions what information should be included in the article in bullet point format as well as\n",
        "                       the sources to include in the article.\n",
        "                    \"\"\"\n",
        "\n",
        "writer_template = \"\"\"Your job is to write an article, do it in this format:\n",
        "\n",
        "                        TITLE: <title>\n",
        "                        BODY: <body>\n",
        "\n",
        "                    You may received feedback on the article from an editor. If you do receive feedback, you MUST make changes to your article and incorporate the feedback.\n",
        "\n",
        "                       ```\n",
        "                    \"\"\"\n",
        "\n",
        "editor_template = \"\"\"Your job is to edit an article written by a writer. Please provide constructive critiques so they can improve it for publication.\n",
        "\n",
        "                    ```EDITORIAL GUIDELINES TO FOLLOW```\n",
        "\n",
        "                      - Your feedback should be in bullet point format only.\n",
        "\n",
        "                      - The critiques should only focus on are the use of keywords, the title of the article, and the title of the headers, also make sure they include references.\n",
        "\n",
        "                      - DO NOT not give positive feedback.\n",
        "\n",
        "                      - DO NOT WRITE THE ARTICLE. You should only provide feedback in bullet point format.\n",
        "\n",
        "                      - You should NEVER accept the first draft of the article.\n",
        "\n",
        "\n",
        "                     If you think the article looks good, then simply say DONE.\n",
        "                    \"\"\""
      ],
      "metadata": {
        "id": "tKvamIgt2XCo"
      },
      "execution_count": null,
      "outputs": []
    },
    {
      "cell_type": "code",
      "source": [
        "from langchain_openai import ChatOpenAI\n",
        "\n",
        "llm = ChatOpenAI(temperature=0)\n",
        "\n",
        "search_agent = create_agent(\n",
        "    llm,\n",
        "    tools,\n",
        "    system_message=search_template,\n",
        ")\n",
        "\n",
        "outliner_agent = create_agent(\n",
        "    llm,\n",
        "    [],\n",
        "    system_message=outliner_template,\n",
        ")\n",
        "\n",
        "writer_agent = create_agent(\n",
        "    llm,\n",
        "    [],\n",
        "    system_message=writer_template,\n",
        ")\n",
        "\n",
        "editor_agent = create_agent(\n",
        "    llm,\n",
        "    [],\n",
        "    system_message=editor_template,\n",
        ")"
      ],
      "metadata": {
        "id": "zs23WL-A26pU"
      },
      "execution_count": null,
      "outputs": []
    },
    {
      "cell_type": "markdown",
      "source": [
        "#### Define Nodes"
      ],
      "metadata": {
        "id": "Sge3YV0R3PUu"
      }
    },
    {
      "cell_type": "code",
      "source": [
        "# Helper function to create a node for a given agent\n",
        "def agent_node(state, agent, name):\n",
        "    result = agent.invoke(state)\n",
        "    return {\n",
        "        \"messages\": [result]\n",
        "    }"
      ],
      "metadata": {
        "id": "bPYdQZ8N3MfW"
      },
      "execution_count": null,
      "outputs": []
    },
    {
      "cell_type": "code",
      "source": [
        "import functools\n",
        "\n",
        "search_node = functools.partial(agent_node, agent=search_agent, name=\"Search Agent\")\n",
        "outliner_node = functools.partial(agent_node, agent=outliner_agent, name=\"Outliner Agent\")\n",
        "writer_node = functools.partial(agent_node, agent=writer_agent, name=\"Writer Agent\")\n",
        "editor_node = functools.partial(agent_node, agent=editor_agent, name=\"Editor Agent\")"
      ],
      "metadata": {
        "id": "WzzQokie3Rj2"
      },
      "execution_count": null,
      "outputs": []
    },
    {
      "cell_type": "code",
      "source": [
        "from langgraph.prebuilt import ToolNode\n",
        "\n",
        "# LangGraph allows for us to create tool nodes\n",
        "tool_node = ToolNode(tools)"
      ],
      "metadata": {
        "id": "mVFUQr0U3Tzw"
      },
      "execution_count": null,
      "outputs": []
    },
    {
      "cell_type": "markdown",
      "source": [
        "#### Create Conditional Edges"
      ],
      "metadata": {
        "id": "md3caetgUeIs"
      }
    },
    {
      "cell_type": "code",
      "source": [
        "from langgraph.graph import END, StateGraph\n",
        "\n",
        "def should_search(state) -> Literal[\"tools\", \"outliner\"]:\n",
        "    messages = state['messages']\n",
        "    last_message = messages[-1]\n",
        "    # If the LLM makes a tool call, then we route to the \"tools\" node\n",
        "    if last_message.tool_calls:\n",
        "        return \"tools\"\n",
        "    # Otherwise, we stop (reply to the user)\n",
        "    return \"outliner\"\n",
        "\n",
        "def should_edit(state) -> Literal[\"writer\", END]:\n",
        "  messages = state['messages']\n",
        "  last_message = messages[-1]\n",
        "\n",
        "  if 'DONE' in last_message.content:\n",
        "    return END\n",
        "\n",
        "  return \"writer\""
      ],
      "metadata": {
        "id": "woXhIO7u3Vhm"
      },
      "execution_count": null,
      "outputs": []
    },
    {
      "cell_type": "markdown",
      "source": [
        "#### Build  Graph"
      ],
      "metadata": {
        "id": "rO-z_alY3iaB"
      }
    },
    {
      "cell_type": "code",
      "source": [
        "# Instantiate a new graph\n",
        "workflow = StateGraph(AgentState)\n",
        "\n",
        "# Add the nodes\n",
        "workflow.add_node(\"search\", search_node)\n",
        "workflow.add_node(\"tools\", tool_node)\n",
        "workflow.add_node(\"outliner\", outliner_node)\n",
        "workflow.add_node(\"writer\", writer_node)\n",
        "workflow.add_node(\"editor\", editor_node)\n",
        "\n",
        "# Set the entrypoint as `search`\n",
        "# This means that this node is the first one called\n",
        "workflow.set_entry_point(\"search\")\n",
        "# Add the edges\n",
        "workflow.add_conditional_edges(\n",
        "    \"search\",\n",
        "    should_search,\n",
        ")\n",
        "workflow.add_edge(\"tools\", 'search')\n",
        "workflow.add_edge(\"outliner\", \"writer\")\n",
        "workflow.add_edge(\"writer\", \"editor\")\n",
        "workflow.add_conditional_edges(\n",
        "    \"editor\",\n",
        "    should_edit\n",
        ")\n",
        "\n",
        "graph = workflow.compile()"
      ],
      "metadata": {
        "id": "eBaWCOFy3afa"
      },
      "execution_count": null,
      "outputs": []
    },
    {
      "cell_type": "markdown",
      "source": [
        "#### Visualize Graph"
      ],
      "metadata": {
        "id": "NlJUwSky33wp"
      }
    },
    {
      "cell_type": "code",
      "source": [
        "from IPython.display import Image, display\n",
        "from langchain_core.runnables.graph import CurveStyle, MermaidDrawMethod\n",
        "\n",
        "display(\n",
        "    Image(\n",
        "        graph.get_graph().draw_mermaid_png(\n",
        "            draw_method=MermaidDrawMethod.API,\n",
        "        )\n",
        "    )\n",
        ")"
      ],
      "metadata": {
        "colab": {
          "base_uri": "https://localhost:8080/",
          "height": 488
        },
        "id": "KTofBzvq310H",
        "outputId": "bf4786f1-0133-42d7-946c-605178f396d4"
      },
      "execution_count": null,
      "outputs": [
        {
          "output_type": "display_data",
          "data": {
            "image/jpeg": "[encoded data removed]",
            "text/plain": [
              "<IPython.core.display.Image object>"
            ]
          },
          "metadata": {}
        }
      ]
    },
    {
      "cell_type": "markdown",
      "source": [
        "#### Test it out!"
      ],
      "metadata": {
        "id": "lhA24xin4a7h"
      }
    },
    {
      "cell_type": "code",
      "source": [
        "from langchain_core.messages import HumanMessage\n",
        "\n",
        "\n",
        "thread = {\"configurable\": {\"thread_id\": \"1\"}}\n",
        "input_message = HumanMessage(content=\"generate an article about tesla that involves elon musk\")\n",
        "\n",
        "for event in graph.stream({\"messages\": [input_message]}, thread, stream_mode=\"values\"):\n",
        "    event[\"messages\"][-1].pretty_print()"
      ],
      "metadata": {
        "colab": {
          "base_uri": "https://localhost:8080/"
        },
        "id": "n3xM4m4q35iG",
        "outputId": "c8c58c11-bc3e-4116-c26c-da3ae043f228"
      },
      "execution_count": null,
      "outputs": [
        {
          "output_type": "stream",
          "name": "stdout",
          "text": [
            "================================\u001b[1m Human Message \u001b[0m=================================\n",
            "\n",
            "generate an article about tesla that involves elon musk\n",
            "==================================\u001b[1m Ai Message \u001b[0m==================================\n",
            "Tool Calls:\n",
            "  tavily_search_results_json (call_HqYNBNSaVVXlyWnn8oW27CsC)\n",
            " Call ID: call_HqYNBNSaVVXlyWnn8oW27CsC\n",
            "  Args:\n",
            "    query: Tesla Elon Musk news\n",
            "=================================\u001b[1m Tool Message \u001b[0m=================================\n",
            "Name: tavily_search_results_json\n",
            "\n",
            "[{\"url\": \"https://www.theverge.com/2023/3/1/23620698/tesla-master-plan-3-elon-musk-ev-solar-fsd-gigafactory-investor-day\", \"content\": \"Elon Musk unveils a new Master Plan, a path to sustainable energy future, but no new cars\\nElon Musk unveils a new Master Plan, a path to sustainable energy future, but no new cars\\nThe billionaire CEO announced the third part of his company\\u2019s \\u2018Master Plan,\\u2019 outlining plans for a \\u2018fully sustainable earth.\\u2019 Ikea debuts a trio of affordable smart home sensors\\nGoogle\\u2019s new geothermal energy project is up and running\\nThe Cybertruck made a mark but missed its moment\\nSpotify Wrapped 2023 assigns you a \\u2018sound town\\u2019 based on your music taste\\nHow to find your 2023 Spotify Wrapped\\nVerge Deals\\n/ Sign up for Verge Deals to get deals on products we've tested sent to your inbox daily.\\n By\\nAndrew J. Hawkins and\\nUmar Shakir\\nShare this story\\nElon Musk revealed the third part of Tesla\\u2019s \\u201cMaster Plan,\\u201d in which the company will lead the global effort to eliminate fossil fuels and convert the world to sustainable energy. Musk adds that the infrastructure needed for this, including wind and solar, will take \\u201cless than 0.2 percent\\u201d of the Earth\\u2019s surface\\n\\u201cI really wanted today to be not just about Tesla investors who own stock, but really anyone who is an investor in Earth,\\u201d Musk said optimistically.\\n Related\\nThat plan, which was posted in 2016 under the cheeky title \\u201cPart Deux,\\u201d said that Tesla would create a thriving solar business, introduce multiple new vehicles across all major categories, achieve full autonomy, and launch a robotaxi network for vehicle owners to earn up to $30,000 annually.\\n\"}, {\"url\": \"https://www.npr.org/2024/06/14/g-s1-4359/elon-musk-tesla-pay-package-shareholder-vote\", \"content\": \"DETROIT \\u2014 Tesla shareholders voted Thursday to restore CEO Elon Musk's record $44.9 billion pay package that was thrown out by a Delaware judge earlier this year, sending a strong vote of ...\"}, {\"url\": \"https://www.nytimes.com/2024/07/29/business/elon-musk-tesla-robotaxi.html\", \"content\": \"Tesla: As sales of its electric cars have fallen, Tesla and its chief executive, Elon Musk, have sought to convince Wall Street that the company's future lies in robotaxis. Experts have doubts .\"}, {\"url\": \"https://www.theverge.com/24054854/tesla-next-generation-vehicle-ev-elon-musk\", \"content\": \"Mar 2, 2023\\nAndrew J. Hawkins\\u00a0and\\u00a0Umar Shakir\\nElon Musk unveils a new Master Plan, a path to sustainable energy future, but no new cars\\nElon Musk revealed the third part of Tesla\\u2019s \\u201cMaster Plan,\\u201d in which the company will lead the global effort to eliminate fossil fuels and convert the world to sustainable energy. Responding to a question about its next-gen vehicles during the earnings call, Tesla CEO Elon Musk said the company is targeting production \\u201ctowards the end of 2025\\u201d but warned of delays due to the complexities of the manufacturing process. The company\\u2019s CEO Elon Musk said its new \\u201ctabless\\u201d battery cells, as well as by changing the materials inside the cell, will allow Tesla to \\u201chalve\\u201d the price per kilowatt-hour, which will make electric cars roughly the same price as combustion engine ones.\\n Elon Musk said a $25,000 electric car with next-gen battery in the works\\nTesla announced that it will dramatically reduce the cost of its battery cells and packs \\u2014 which means the company\\u2019s new goal is a $25,000 electric car. Sep 8, 2023\\nTom Warren\\nTesla\\u2019s $25,000 \\u2018next-generation car\\u2019 will have a Cybertruck design\\nTesla is reportedly preparing to build a $25,000 electric car built on the company\\u2019s next-generation engineering platform.\"}, {\"url\": \"https://www.cnn.com/2024/06/17/business/elon-musk-next-pay-package-tesla/index.html\", \"content\": \"Tesla shareholders on Thursday confirmed they want Elon Musk to get a massive record pay package for running Tesla for the last six years. The question now is, how much will he get going forward?\"}]\n",
            "==================================\u001b[1m Ai Message \u001b[0m==================================\n",
            "\n",
            "Here are some relevant articles about Tesla and Elon Musk:\n",
            "\n",
            "1. Title: \"Elon Musk unveils a new Master Plan, a path to sustainable energy future, but no new cars\"\n",
            "   Source: The Verge\n",
            "   Link: [Read more](https://www.theverge.com/2023/3/1/23620698/tesla-master-plan-3-elon-musk-ev-solar-fsd-gigafactory-investor-day)\n",
            "   \n",
            "2. Title: \"Tesla shareholders voted to restore CEO Elon Musk's record $44.9 billion pay package\"\n",
            "   Source: NPR\n",
            "   Link: [Read more](https://www.npr.org/2024/06/14/g-s1-4359/elon-musk-tesla-pay-package-shareholder-vote)\n",
            "   \n",
            "3. Title: \"Tesla and Elon Musk's focus on robotaxis as electric car sales fall\"\n",
            "   Source: The New York Times\n",
            "   Link: [Read more](https://www.nytimes.com/2024/07/29/business/elon-musk-tesla-robotaxi.html)\n",
            "   \n",
            "4. Title: \"Elon Musk unveils a new Master Plan for Tesla's sustainable energy future\"\n",
            "   Source: The Verge\n",
            "   Link: [Read more](https://www.theverge.com/24054854/tesla-next-generation-vehicle-ev-elon-musk)\n",
            "   \n",
            "5. Title: \"Tesla shareholders confirm massive pay package for Elon Musk\"\n",
            "   Source: CNN\n",
            "   Link: [Read more](https://www.cnn.com/2024/06/17/business/elon-musk-next-pay-package-tesla/index.html)\n",
            "==================================\u001b[1m Ai Message \u001b[0m==================================\n",
            "\n",
            "Based on the articles provided, here is an outline for the article about Tesla involving Elon Musk:\n",
            "\n",
            "I. Introduction\n",
            "   - Brief overview of Tesla and its mission for sustainable energy\n",
            "   - Introduction to Elon Musk and his role as CEO of Tesla\n",
            "\n",
            "II. Elon Musk's Master Plan for Tesla\n",
            "   - Overview of the third part of Tesla's \"Master Plan\" unveiled by Elon Musk\n",
            "   - Emphasis on the goal to eliminate fossil fuels and transition to sustainable energy\n",
            "   - Discussion on the importance of wind and solar energy in achieving this goal\n",
            "\n",
            "III. Tesla's Future Plans\n",
            "   - Details on Tesla's plan to introduce new vehicles and achieve full autonomy\n",
            "   - Mention of the robotaxi network for vehicle owners to earn income\n",
            "   - Insights on the company's focus on reducing the cost of battery cells for electric cars\n",
            "\n",
            "IV. Elon Musk's Pay Package\n",
            "   - Explanation of the $44.9 billion pay package approved by Tesla shareholders for Elon Musk\n",
            "   - Discussion on the significance of this pay package in relation to Musk's leadership at Tesla\n",
            "\n",
            "V. Tesla's Shift to Robotaxis\n",
            "   - Analysis of Tesla's strategy to focus on robotaxis as electric car sales decline\n",
            "   - Examination of experts' doubts regarding Tesla's future in the robotaxi industry\n",
            "\n",
            "VI. Conclusion\n",
            "   - Recap of Elon Musk's vision for Tesla's sustainable energy future\n",
            "   - Final thoughts on the impact of Elon Musk's leadership on Tesla's trajectory\n",
            "\n",
            "Sources:\n",
            "1. The Verge - [Link](https://www.theverge.com/2023/3/1/23620698/tesla-master-plan-3-elon-musk-ev-solar-fsd-gigafactory-investor-day)\n",
            "2. NPR - [Link](https://www.npr.org/2024/06/14/g-s1-4359/elon-musk-tesla-pay-package-shareholder-vote)\n",
            "3. The New York Times - [Link](https://www.nytimes.com/2024/07/29/business/elon-musk-tesla-robotaxi.html)\n",
            "4. The Verge - [Link](https://www.theverge.com/24054854/tesla-next-generation-vehicle-ev-elon-musk)\n",
            "5. CNN - [Link](https://www.cnn.com/2024/06/17/business/elon-musk-next-pay-package-tesla/index.html)\n",
            "==================================\u001b[1m Ai Message \u001b[0m==================================\n",
            "\n",
            "Feedback: \n",
            "- The outline is well-structured and covers the key points from the provided articles. \n",
            "- It would be beneficial to include more specific details and quotes from Elon Musk to add depth to the article. \n",
            "- Consider incorporating information about Tesla's recent financial performance or any controversies involving Elon Musk for a more comprehensive view.\n",
            "\n",
            "Based on the feedback, here is an updated outline for the article:\n",
            "\n",
            "I. Introduction\n",
            "   - Brief overview of Tesla's mission and Elon Musk's leadership role\n",
            "   - Introduction to the recent developments in Tesla's Master Plan and Elon Musk's vision for the company\n",
            "\n",
            "II. Elon Musk's Master Plan for Sustainable Energy\n",
            "   - Detailed explanation of Elon Musk's plan to transition to sustainable energy and eliminate fossil fuels\n",
            "   - Insights into the infrastructure needed for this transition, including wind and solar energy\n",
            "\n",
            "III. Tesla's Future Initiatives\n",
            "   - Discussion on Tesla's upcoming vehicle launches and advancements in autonomous driving technology\n",
            "   - Overview of the robotaxi network and its potential impact on Tesla's business model\n",
            "   - Analysis of Tesla's efforts to reduce the cost of battery cells for electric vehicles\n",
            "\n",
            "IV. Elon Musk's Pay Package and Shareholder Approval\n",
            "   - Explanation of the $44.9 billion pay package for Elon Musk and its significance\n",
            "   - Insights into the shareholder vote and the implications for Tesla's leadership\n",
            "\n",
            "V. Tesla's Shift to Robotaxis and Challenges\n",
            "   - Examination of Tesla's focus on robotaxis amid declining electric car sales\n",
            "   - Discussion on experts' doubts about Tesla's future in the robotaxi industry and potential challenges\n",
            "\n",
            "VI. Conclusion\n",
            "   - Recap of Elon Musk's impact on Tesla's sustainable energy goals and future plans\n",
            "   - Final thoughts on the opportunities and challenges facing Tesla under Elon Musk's leadership\n",
            "\n",
            "Sources:\n",
            "1. The Verge - [Link](https://www.theverge.com/2023/3/1/23620698/tesla-master-plan-3-elon-musk-ev-solar-fsd-gigafactory-investor-day)\n",
            "2. NPR - [Link](https://www.npr.org/2024/06/14/g-s1-4359/elon-musk-tesla-pay-package-shareholder-vote)\n",
            "3. The New York Times - [Link](https://www.nytimes.com/2024/07/29/business/elon-musk-tesla-robotaxi.html)\n",
            "4. The Verge - [Link](https://www.theverge.com/24054854/tesla-next-generation-vehicle-ev-elon-musk)\n",
            "5. CNN - [Link](https://www.cnn.com/2024/06/17/business/elon-musk-next-pay-package-tesla/index.html)\n",
            "==================================\u001b[1m Ai Message \u001b[0m==================================\n",
            "\n",
            "Feedback:\n",
            "- The outline is comprehensive and covers the key aspects of the article.\n",
            "- It would be beneficial to include more specific details and quotes from Elon Musk to enhance the article's credibility.\n",
            "- Consider incorporating information about Tesla's recent innovations or partnerships to provide a more holistic view of the company's activities.\n",
            "\n",
            "Based on the feedback, here is an updated outline for the article:\n",
            "\n",
            "I. Introduction\n",
            "   - Brief overview of Tesla's mission for sustainable energy and Elon Musk's leadership role\n",
            "   - Introduction to the recent developments in Tesla's Master Plan and Elon Musk's vision for the company's future\n",
            "\n",
            "II. Elon Musk's Vision for Sustainable Energy\n",
            "   - Detailed explanation of Elon Musk's plan to transition to sustainable energy and reduce reliance on fossil fuels\n",
            "   - Insights into the renewable energy infrastructure required for Tesla's sustainable energy goals\n",
            "\n",
            "III. Tesla's Future Initiatives and Innovations\n",
            "   - Discussion on Tesla's upcoming vehicle launches and advancements in autonomous driving technology\n",
            "   - Overview of Tesla's efforts to reduce the cost of battery cells for electric vehicles\n",
            "   - Mention of any recent partnerships or collaborations that align with Tesla's sustainability goals\n",
            "\n",
            "IV. Elon Musk's Pay Package and Shareholder Approval\n",
            "   - Explanation of the $44.9 billion pay package for Elon Musk and its implications for Tesla's leadership\n",
            "   - Insights into the shareholder approval process and the rationale behind supporting Musk's compensation\n",
            "\n",
            "V. Challenges and Opportunities in the Electric Vehicle Market\n",
            "   - Examination of Tesla's focus on robotaxis and the challenges posed by declining electric car sales\n",
            "   - Discussion on the potential opportunities and threats facing Tesla in the competitive electric vehicle market\n",
            "\n",
            "VI. Conclusion\n",
            "   - Recap of Elon Musk's impact on Tesla's sustainable energy initiatives and the company's future trajectory\n",
            "   - Final thoughts on the key takeaways from Elon Musk's leadership at Tesla\n",
            "\n",
            "Sources:\n",
            "1. The Verge - [Link](https://www.theverge.com/2023/3/1/23620698/tesla-master-plan-3-elon-musk-ev-solar-fsd-gigafactory-investor-day)\n",
            "2. NPR - [Link](https://www.npr.org/2024/06/14/g-s1-4359/elon-musk-tesla-pay-package-shareholder-vote)\n",
            "3. The New York Times - [Link](https://www.nytimes.com/2024/07/29/business/elon-musk-tesla-robotaxi.html)\n",
            "4. The Verge - [Link](https://www.theverge.com/24054854/tesla-next-generation-vehicle-ev-elon-musk)\n",
            "5. CNN - [Link](https://www.cnn.com/2024/06/17/business/elon-musk-next-pay-package-tesla/index.html)\n",
            "==================================\u001b[1m Ai Message \u001b[0m==================================\n",
            "\n",
            "TITLE: \"Elon Musk's Vision for Tesla: A Sustainable Energy Future\"\n",
            "\n",
            "BODY:\n",
            "I. Introduction\n",
            "   Tesla, under the leadership of CEO Elon Musk, has been at the forefront of revolutionizing the automotive industry with its focus on sustainable energy solutions. Elon Musk's visionary approach has not only shaped Tesla's trajectory but has also influenced the broader conversation around renewable energy and electric vehicles.\n",
            "\n",
            "II. Elon Musk's Vision for Sustainable Energy\n",
            "   Elon Musk recently unveiled Tesla's ambitious \"Master Plan,\" outlining a path to a sustainable energy future. Musk's plan emphasizes the transition away from fossil fuels and towards renewable energy sources like wind and solar power. By committing to this vision, Tesla aims to play a pivotal role in reducing carbon emissions and combating climate change.\n",
            "\n",
            "III. Tesla's Future Initiatives and Innovations\n",
            "   In line with Elon Musk's vision, Tesla is set to introduce new vehicles across various categories and advance its autonomous driving technology. Additionally, Tesla is working on reducing the cost of battery cells for electric vehicles, making sustainable transportation more accessible to a wider audience. Recent partnerships and collaborations further underscore Tesla's commitment to innovation in the electric vehicle market.\n",
            "\n",
            "IV. Elon Musk's Pay Package and Shareholder Approval\n",
            "   Tesla shareholders recently approved a record $44.9 billion pay package for Elon Musk, signaling confidence in his leadership and vision for the company. This substantial compensation package reflects the value that Musk brings to Tesla and acknowledges his instrumental role in driving the company's success.\n",
            "\n",
            "V. Challenges and Opportunities in the Electric Vehicle Market\n",
            "   While Tesla continues to lead the electric vehicle market, challenges such as declining electric car sales and competition pose potential obstacles. Tesla's focus on robotaxis and the evolving landscape of sustainable transportation present both opportunities and threats for the company as it navigates a rapidly changing industry.\n",
            "\n",
            "VI. Conclusion\n",
            "   Elon Musk's vision for Tesla goes beyond just building electric cars; it encompasses a holistic approach to sustainable energy and environmental stewardship. As Tesla continues to innovate and push boundaries under Musk's leadership, the company remains a key player in shaping the future of transportation and energy. Elon Musk's unwavering commitment to sustainability and innovation sets a precedent for the industry and underscores Tesla's mission to create a more sustainable world.\n",
            "\n",
            "Sources:\n",
            "1. The Verge - [Read more](https://www.theverge.com/2023/3/1/23620698/tesla-master-plan-3-elon-musk-ev-solar-fsd-gigafactory-investor-day)\n",
            "2. NPR - [Read more](https://www.npr.org/2024/06/14/g-s1-4359/elon-musk-tesla-pay-package-shareholder-vote)\n",
            "3. The New York Times - [Read more](https://www.nytimes.com/2024/07/29/business/elon-musk-tesla-robotaxi.html)\n",
            "4. The Verge - [Read more](https://www.theverge.com/24054854/tesla-next-generation-vehicle-ev-elon-musk)\n",
            "5. CNN - [Read more](https://www.cnn.com/2024/06/17/business/elon-musk-next-pay-package-tesla/index.html)\n",
            "==================================\u001b[1m Ai Message \u001b[0m==================================\n",
            "\n",
            "Feedback:\n",
            "- The title effectively captures the essence of the article and the focus on Elon Musk's vision for Tesla.\n",
            "- The body of the article is well-structured and provides a comprehensive overview of Elon Musk's initiatives and challenges faced by Tesla.\n",
            "- The inclusion of specific details and quotes from the provided sources enhances the credibility of the article.\n",
            "\n",
            "Overall, the article is well-developed and aligns with the information from the provided sources. It is ready for publication. \n",
            "\n",
            "DONE\n"
          ]
        }
      ]
    },
    {
      "cell_type": "markdown",
      "source": [
        "### Adding Human-in-the-Loop\n",
        "\n",
        "As you can see from our example with an AI Editor, it posed a few challenges in terms of inefficiency (too many loops + redundant feedback) and the feedback it did give missed key details that a human would not miss.\n",
        "\n",
        "We will replace the AI editor with you, a human editor, which will provide key feedback to the writer on improving the article."
      ],
      "metadata": {
        "id": "yq4B4mWI2bUf"
      }
    },
    {
      "cell_type": "code",
      "source": [
        "from langgraph.checkpoint import MemorySaver\n",
        "\n",
        "checkpointer = MemorySaver()\n",
        "\n",
        "graph = workflow.compile(checkpointer=checkpointer, interrupt_before=['editor'])"
      ],
      "metadata": {
        "id": "Vkz5HNHj4IwK"
      },
      "execution_count": null,
      "outputs": []
    },
    {
      "cell_type": "code",
      "source": [
        "display(\n",
        "    Image(\n",
        "        graph.get_graph().draw_mermaid_png(\n",
        "            draw_method=MermaidDrawMethod.API,\n",
        "        )\n",
        "    )\n",
        ")"
      ],
      "metadata": {
        "colab": {
          "base_uri": "https://localhost:8080/",
          "height": 488
        },
        "id": "Lpt3lYwMdz8h",
        "outputId": "affafc19-dffa-4a84-9039-64eb3e17f2d9"
      },
      "execution_count": null,
      "outputs": [
        {
          "output_type": "display_data",
          "data": {
            "image/jpeg": "[encoded data removed]",
            "text/plain": [
              "<IPython.core.display.Image object>"
            ]
          },
          "metadata": {}
        }
      ]
    },
    {
      "cell_type": "code",
      "source": [
        "from langchain_core.messages import HumanMessage\n",
        "\n",
        "\n",
        "thread = {\"configurable\": {\"thread_id\": \"1\"}}\n",
        "input_message = HumanMessage(content=\"generate an article about tesla that involves elon musk\")\n",
        "\n",
        "for event in graph.stream({\"messages\": [input_message]}, thread, stream_mode=\"values\"):\n",
        "    event[\"messages\"][-1].pretty_print()"
      ],
      "metadata": {
        "colab": {
          "base_uri": "https://localhost:8080/"
        },
        "id": "T687j0wKeCSz",
        "outputId": "ed902424-2185-4ec2-9c1d-9bb60732d478"
      },
      "execution_count": null,
      "outputs": [
        {
          "output_type": "stream",
          "name": "stdout",
          "text": [
            "================================\u001b[1m Human Message \u001b[0m=================================\n",
            "\n",
            "generate an article about tesla that involves elon musk\n",
            "==================================\u001b[1m Ai Message \u001b[0m==================================\n",
            "Tool Calls:\n",
            "  tavily_search_results_json (call_GgoXsJhkvXkSCVJhnWxqb7jO)\n",
            " Call ID: call_GgoXsJhkvXkSCVJhnWxqb7jO\n",
            "  Args:\n",
            "    query: Tesla Elon Musk news\n",
            "=================================\u001b[1m Tool Message \u001b[0m=================================\n",
            "Name: tavily_search_results_json\n",
            "\n",
            "[{\"url\": \"https://www.theverge.com/2023/3/1/23620698/tesla-master-plan-3-elon-musk-ev-solar-fsd-gigafactory-investor-day\", \"content\": \"Elon Musk unveils a new Master Plan, a path to sustainable energy future, but no new cars\\nElon Musk unveils a new Master Plan, a path to sustainable energy future, but no new cars\\nThe billionaire CEO announced the third part of his company\\u2019s \\u2018Master Plan,\\u2019 outlining plans for a \\u2018fully sustainable earth.\\u2019 Ikea debuts a trio of affordable smart home sensors\\nGoogle\\u2019s new geothermal energy project is up and running\\nThe Cybertruck made a mark but missed its moment\\nSpotify Wrapped 2023 assigns you a \\u2018sound town\\u2019 based on your music taste\\nHow to find your 2023 Spotify Wrapped\\nVerge Deals\\n/ Sign up for Verge Deals to get deals on products we've tested sent to your inbox daily.\\n By\\nAndrew J. Hawkins and\\nUmar Shakir\\nShare this story\\nElon Musk revealed the third part of Tesla\\u2019s \\u201cMaster Plan,\\u201d in which the company will lead the global effort to eliminate fossil fuels and convert the world to sustainable energy. Musk adds that the infrastructure needed for this, including wind and solar, will take \\u201cless than 0.2 percent\\u201d of the Earth\\u2019s surface\\n\\u201cI really wanted today to be not just about Tesla investors who own stock, but really anyone who is an investor in Earth,\\u201d Musk said optimistically.\\n Related\\nThat plan, which was posted in 2016 under the cheeky title \\u201cPart Deux,\\u201d said that Tesla would create a thriving solar business, introduce multiple new vehicles across all major categories, achieve full autonomy, and launch a robotaxi network for vehicle owners to earn up to $30,000 annually.\\n\"}, {\"url\": \"https://www.npr.org/2024/06/14/g-s1-4359/elon-musk-tesla-pay-package-shareholder-vote\", \"content\": \"DETROIT \\u2014 Tesla shareholders voted Thursday to restore CEO Elon Musk's record $44.9 billion pay package that was thrown out by a Delaware judge earlier this year, sending a strong vote of ...\"}, {\"url\": \"https://www.nytimes.com/2024/07/29/business/elon-musk-tesla-robotaxi.html\", \"content\": \"Tesla: As sales of its electric cars have fallen, Tesla and its chief executive, Elon Musk, have sought to convince Wall Street that the company's future lies in robotaxis. Experts have doubts .\"}, {\"url\": \"https://www.theverge.com/24054854/tesla-next-generation-vehicle-ev-elon-musk\", \"content\": \"Mar 2, 2023\\nAndrew J. Hawkins\\u00a0and\\u00a0Umar Shakir\\nElon Musk unveils a new Master Plan, a path to sustainable energy future, but no new cars\\nElon Musk revealed the third part of Tesla\\u2019s \\u201cMaster Plan,\\u201d in which the company will lead the global effort to eliminate fossil fuels and convert the world to sustainable energy. Responding to a question about its next-gen vehicles during the earnings call, Tesla CEO Elon Musk said the company is targeting production \\u201ctowards the end of 2025\\u201d but warned of delays due to the complexities of the manufacturing process. The company\\u2019s CEO Elon Musk said its new \\u201ctabless\\u201d battery cells, as well as by changing the materials inside the cell, will allow Tesla to \\u201chalve\\u201d the price per kilowatt-hour, which will make electric cars roughly the same price as combustion engine ones.\\n Elon Musk said a $25,000 electric car with next-gen battery in the works\\nTesla announced that it will dramatically reduce the cost of its battery cells and packs \\u2014 which means the company\\u2019s new goal is a $25,000 electric car. Sep 8, 2023\\nTom Warren\\nTesla\\u2019s $25,000 \\u2018next-generation car\\u2019 will have a Cybertruck design\\nTesla is reportedly preparing to build a $25,000 electric car built on the company\\u2019s next-generation engineering platform.\"}, {\"url\": \"https://www.cnn.com/2024/06/17/business/elon-musk-next-pay-package-tesla/index.html\", \"content\": \"Tesla shareholders on Thursday confirmed they want Elon Musk to get a massive record pay package for running Tesla for the last six years. The question now is, how much will he get going forward?\"}]\n",
            "==================================\u001b[1m Ai Message \u001b[0m==================================\n",
            "\n",
            "Here are some articles about Tesla and Elon Musk that you can use to generate an article:\n",
            "\n",
            "1. Title: Elon Musk unveils a new Master Plan, a path to sustainable energy future, but no new cars\n",
            "   Source: The Verge\n",
            "   Content: Elon Musk revealed the third part of Tesla’s “Master Plan,” in which the company will lead the global effort to eliminate fossil fuels and convert the world to sustainable energy. Musk adds that the infrastructure needed for this, including wind and solar, will take “less than 0.2 percent” of the Earth’s surface. Musk stated, “I really wanted today to be not just about Tesla investors who own stock, but really anyone who is an investor in Earth.”\n",
            "\n",
            "2. Title: Tesla shareholders voted to restore Elon Musk's record $44.9 billion pay package\n",
            "   Source: NPR\n",
            "   Content: Tesla shareholders voted to restore CEO Elon Musk's record $44.9 billion pay package that was thrown out by a Delaware judge earlier this year, sending a strong vote of confidence in Musk.\n",
            "\n",
            "3. Title: Tesla and Elon Musk focus on robotaxis as sales of electric cars decline\n",
            "   Source: The New York Times\n",
            "   Content: As sales of its electric cars have fallen, Tesla and its chief executive, Elon Musk, have sought to convince Wall Street that the company's future lies in robotaxis. However, experts have doubts about this strategy.\n",
            "\n",
            "4. Title: Elon Musk targets production of next-gen vehicles towards the end of 2025\n",
            "   Source: The Verge\n",
            "   Content: Elon Musk revealed Tesla's plan to lead the global effort to eliminate fossil fuels and convert the world to sustainable energy. Musk mentioned that the company is targeting production of next-gen vehicles towards the end of 2025, with the goal of reducing the cost of battery cells and packs to enable a $25,000 electric car.\n",
            "\n",
            "5. Title: Tesla shareholders confirm massive pay package for Elon Musk\n",
            "   Source: CNN\n",
            "   Content: Tesla shareholders confirmed their support for Elon Musk to receive a massive record pay package for running Tesla for the last six years. The article discusses the question of how much Musk will receive going forward in terms of compensation.\n",
            "==================================\u001b[1m Ai Message \u001b[0m==================================\n",
            "\n",
            "Based on the provided articles, here is an outline for the article about Tesla involving Elon Musk:\n",
            "\n",
            "I. Introduction\n",
            "   - Brief overview of Tesla and its mission to lead the global effort towards sustainable energy under the guidance of CEO Elon Musk.\n",
            "\n",
            "II. Elon Musk's Master Plan for Tesla\n",
            "   - Elon Musk unveils the third part of Tesla's \"Master Plan\" focused on eliminating fossil fuels and transitioning to sustainable energy.\n",
            "   - Musk emphasizes the importance of infrastructure like wind and solar energy in achieving this goal.\n",
            "   - Discussion on how Tesla aims to involve not just investors in the company but anyone invested in the future of the planet.\n",
            "\n",
            "III. Elon Musk's Pay Package\n",
            "   - Shareholders vote to restore Elon Musk's record $44.9 billion pay package, showcasing confidence in his leadership.\n",
            "   - Overview of the significance of Musk's compensation package in driving Tesla's growth and innovation.\n",
            "\n",
            "IV. Tesla's Shift to Robotaxis\n",
            "   - Analysis of Tesla's strategy to focus on robotaxis as electric car sales decline.\n",
            "   - Evaluation of experts' doubts regarding the viability of robotaxis as the future of Tesla.\n",
            "\n",
            "V. Next-Generation Vehicles and Battery Technology\n",
            "   - Elon Musk targets production of next-gen vehicles by the end of 2025, aiming to reduce costs and introduce a $25,000 electric car.\n",
            "   - Discussion on Tesla's innovative battery technology and its potential impact on the electric vehicle market.\n",
            "\n",
            "VI. Future Prospects and Challenges\n",
            "   - Speculation on the future trajectory of Tesla under Elon Musk's leadership.\n",
            "   - Examination of potential challenges and opportunities facing Tesla in the sustainable energy and electric vehicle sectors.\n",
            "\n",
            "VII. Conclusion\n",
            "   - Recap of Tesla's journey under Elon Musk's guidance and the company's role in shaping the future of sustainable energy and transportation.\n",
            "\n",
            "Sources:\n",
            "1. The Verge - Elon Musk unveils a new Master Plan, a path to sustainable energy future, but no new cars\n",
            "2. NPR - Tesla shareholders voted to restore Elon Musk's record $44.9 billion pay package\n",
            "3. The New York Times - Tesla and Elon Musk focus on robotaxis as sales of electric cars decline\n",
            "4. The Verge - Elon Musk targets production of next-gen vehicles towards the end of 2025\n",
            "5. CNN - Tesla shareholders confirm massive pay package for Elon Musk\n",
            "==================================\u001b[1m Ai Message \u001b[0m==================================\n",
            "\n",
            "TITLE: Tesla's Sustainable Energy Vision: Elon Musk's Master Plan and Future Prospects\n",
            "\n",
            "BODY:\n",
            "I. Introduction\n",
            "Tesla, under the visionary leadership of CEO Elon Musk, is at the forefront of revolutionizing the automotive industry with its focus on sustainable energy solutions. Musk's ambitious Master Plan outlines a path towards a future powered by renewable energy sources, setting Tesla apart as a pioneer in the transition to a sustainable energy ecosystem.\n",
            "\n",
            "II. Elon Musk's Master Plan for Tesla\n",
            "Elon Musk recently unveiled the third part of Tesla's \"Master Plan,\" emphasizing the company's commitment to eliminating fossil fuels and promoting sustainable energy practices. Musk's vision includes leveraging wind and solar energy to drive this transition, with a goal of utilizing less than 0.2% of the Earth's surface for the necessary infrastructure. This plan not only caters to Tesla investors but also appeals to individuals invested in the well-being of the planet.\n",
            "\n",
            "III. Elon Musk's Pay Package\n",
            "In a show of confidence in Musk's leadership, Tesla shareholders voted to reinstate his record $44.9 billion pay package. This decision underscores the belief in Musk's ability to drive Tesla's growth and innovation, solidifying his position as a key figure in the company's success.\n",
            "\n",
            "IV. Tesla's Shift to Robotaxis\n",
            "As Tesla navigates a changing landscape in electric vehicle sales, the company is exploring the potential of robotaxis as a key focus for future growth. While Musk and Tesla are optimistic about the prospects of robotaxis, experts have raised concerns about the viability of this strategy and its impact on Tesla's overall business model.\n",
            "\n",
            "V. Next-Generation Vehicles and Battery Technology\n",
            "Looking ahead, Elon Musk has set ambitious targets for the production of next-generation vehicles by the end of 2025. Tesla's innovative battery technology, including \"tabless\" battery cells and material advancements, aims to significantly reduce costs and pave the way for a $25,000 electric car. This strategic move positions Tesla as a frontrunner in the electric vehicle market, with a focus on affordability and sustainability.\n",
            "\n",
            "VI. Future Prospects and Challenges\n",
            "As Tesla continues to push boundaries in sustainable energy and transportation, the company faces both opportunities and challenges on the horizon. Elon Musk's leadership and Tesla's innovative approach to technology and sustainability will play a crucial role in shaping the future of the automotive industry and the broader energy sector.\n",
            "\n",
            "VII. Conclusion\n",
            "Tesla's journey under Elon Musk's guidance exemplifies a commitment to innovation, sustainability, and a vision for a greener future. With Musk at the helm, Tesla is poised to lead the charge towards a more sustainable energy landscape, setting new standards for the automotive industry and inspiring change on a global scale.\n"
          ]
        }
      ]
    },
    {
      "cell_type": "code",
      "source": [
        "graph.update_state(thread, {\"messages\": HumanMessage(content=\"For the article sections, write in paragraph format and don't copy the outline. Keep the sources at the bottom of the article. Make the article only about the Robotaxis\")}, as_node=\"editor\")"
      ],
      "metadata": {
        "colab": {
          "base_uri": "https://localhost:8080/"
        },
        "id": "1iUL2K-DeNtl",
        "outputId": "9aed69f8-38f1-49e8-9cca-721d977ed02c"
      },
      "execution_count": null,
      "outputs": [
        {
          "output_type": "execute_result",
          "data": {
            "text/plain": [
              "{'configurable': {'thread_id': '1',\n",
              "  'thread_ts': '1ef5041e-13ae-692e-8006-967229974ea2'}}"
            ]
          },
          "metadata": {},
          "execution_count": 18
        }
      ]
    },
    {
      "cell_type": "code",
      "source": [
        "graph.get_state(thread).next"
      ],
      "metadata": {
        "colab": {
          "base_uri": "https://localhost:8080/"
        },
        "id": "iayzUe4xewpX",
        "outputId": "6b958a71-3186-4ced-9e8b-653be453e56a"
      },
      "execution_count": null,
      "outputs": [
        {
          "output_type": "execute_result",
          "data": {
            "text/plain": [
              "('writer',)"
            ]
          },
          "metadata": {},
          "execution_count": 19
        }
      ]
    },
    {
      "cell_type": "code",
      "source": [
        "for event in graph.stream(None, thread, stream_mode=\"values\"):\n",
        "    event[\"messages\"][-1].pretty_print()"
      ],
      "metadata": {
        "colab": {
          "base_uri": "https://localhost:8080/"
        },
        "id": "jpBQvjVTe416",
        "outputId": "4ee8eb0b-ef2e-4acc-e632-97784d6d58d2"
      },
      "execution_count": null,
      "outputs": [
        {
          "output_type": "stream",
          "name": "stdout",
          "text": [
            "==================================\u001b[1m Ai Message \u001b[0m==================================\n",
            "\n",
            "TITLE: Tesla's Vision for Robotaxis: Elon Musk's Strategy for Future Mobility\n",
            "\n",
            "BODY:\n",
            "In a strategic shift towards the future of transportation, Tesla, led by CEO Elon Musk, is placing a significant focus on the development of robotaxis. As the landscape of electric vehicle sales evolves, Tesla is positioning itself to revolutionize the way people move from place to place with autonomous vehicles. Elon Musk's vision for robotaxis represents a bold step towards redefining urban mobility and reducing the reliance on traditional car ownership models.\n",
            "\n",
            "The concept of robotaxis involves deploying self-driving vehicles that can operate without human intervention, offering on-demand transportation services to passengers. Tesla's foray into this arena signals a departure from the conventional approach to personal vehicle ownership, with a vision of a shared mobility ecosystem powered by autonomous technology. By leveraging its expertise in electric vehicles and autonomous driving systems, Tesla aims to create a seamless and efficient transportation network that enhances convenience and reduces the environmental impact of traditional vehicles.\n",
            "\n",
            "While Elon Musk and Tesla are optimistic about the potential of robotaxis to transform the way people commute and travel, experts have raised concerns about the challenges associated with autonomous vehicle technology. Safety, regulatory hurdles, and public acceptance are among the key considerations that Tesla must address as it navigates the transition to a robotaxi-centric model. Despite these challenges, Tesla's commitment to innovation and its track record of pushing boundaries in the automotive industry position the company as a frontrunner in the development of autonomous transportation solutions.\n",
            "\n",
            "The shift towards robotaxis represents a strategic move by Tesla to diversify its offerings and capitalize on the growing demand for sustainable and efficient mobility solutions. By investing in autonomous technology and reimagining the future of transportation, Tesla is not only shaping the automotive industry but also paving the way for a more connected and sustainable urban environment. Elon Musk's vision for robotaxis underscores Tesla's commitment to innovation and its mission to drive positive change in the way people move and interact with their surroundings.\n",
            "\n",
            "In conclusion, Tesla's focus on robotaxis under the leadership of Elon Musk signals a transformative shift towards autonomous mobility solutions. As Tesla continues to pioneer advancements in electric vehicles and autonomous technology, the development of robotaxis represents a key pillar of the company's strategy for future growth and innovation in the transportation sector.\n",
            "\n",
            "Sources:\n",
            "- The New York Times - Tesla and Elon Musk focus on robotaxis as sales of electric cars decline\n",
            "- The Verge - Elon Musk targets production of next-gen vehicles towards the end of 2025\n"
          ]
        }
      ]
    },
    {
      "cell_type": "code",
      "source": [
        "graph.update_state(thread, {'messages': HumanMessage(content=\"DONE\")}, as_node=\"editor\")"
      ],
      "metadata": {
        "colab": {
          "base_uri": "https://localhost:8080/"
        },
        "id": "oxQDWy70fIJW",
        "outputId": "dd4af3d1-6dad-4e1f-dedf-0a044c73cd2e"
      },
      "execution_count": null,
      "outputs": [
        {
          "output_type": "execute_result",
          "data": {
            "text/plain": [
              "{'configurable': {'thread_id': '1',\n",
              "  'thread_ts': '1ef5041e-42d9-693a-8008-a643ba4e8c28'}}"
            ]
          },
          "metadata": {},
          "execution_count": 21
        }
      ]
    },
    {
      "cell_type": "code",
      "source": [
        "graph.get_state(thread).next"
      ],
      "metadata": {
        "id": "X0vgB8Y1fUx4",
        "outputId": "f600e77e-3dcc-4b81-d787-f8929d3fc8ef",
        "colab": {
          "base_uri": "https://localhost:8080/"
        }
      },
      "execution_count": null,
      "outputs": [
        {
          "output_type": "execute_result",
          "data": {
            "text/plain": [
              "()"
            ]
          },
          "metadata": {},
          "execution_count": 22
        }
      ]
    },
    {
      "cell_type": "markdown",
      "source": [
        "### Adding Custom Tools\n",
        "\n",
        "We will add a tool to the editor that if called will format the article into JSON format and \"publish\" it. Once this tool node is called the graph ends."
      ],
      "metadata": {
        "id": "E329p8lR6RYb"
      }
    },
    {
      "cell_type": "markdown",
      "source": [
        "#### Create New Tool"
      ],
      "metadata": {
        "id": "CGuRIImXTw91"
      }
    },
    {
      "cell_type": "code",
      "source": [
        "from langchain_core.tools import tool\n",
        "import time\n",
        "import json\n",
        "\n",
        "\n",
        "@tool\n",
        "def publish_article(\n",
        "    title: str,\n",
        "    body: str,\n",
        "    references: list[str]\n",
        "):\n",
        "    \"\"\"Use this to publish the article\"\"\"\n",
        "\n",
        "    return {\n",
        "        \"timestamp\": time.time(),\n",
        "        \"title\": title,\n",
        "        \"body\": body,\n",
        "        \"references\": references\n",
        "    }"
      ],
      "metadata": {
        "id": "ByN-763M5n8n"
      },
      "execution_count": null,
      "outputs": []
    },
    {
      "cell_type": "markdown",
      "source": [
        "#### Create Publisher Node"
      ],
      "metadata": {
        "id": "9xqO7iWRAiut"
      }
    },
    {
      "cell_type": "code",
      "source": [
        "publisher = create_agent(\n",
        "    llm,\n",
        "    [publish_article],\n",
        "    system_message=\"Your job is to use the publish_article tool to publish the final draft of the article outputted by the writer. Please return just the output from the publish_article tool in JSON format.\"\n",
        ")\n",
        "\n",
        "publisher = functools.partial(agent_node, agent=publisher, name=\"Publisher\")"
      ],
      "metadata": {
        "id": "t0SdU6h0_1xj"
      },
      "execution_count": null,
      "outputs": []
    },
    {
      "cell_type": "markdown",
      "source": [
        "#### Add Tool Node for Publish Article"
      ],
      "metadata": {
        "id": "aywyuIGNCTRs"
      }
    },
    {
      "cell_type": "code",
      "source": [
        "publish_tool = ToolNode([publish_article])"
      ],
      "metadata": {
        "id": "VydBAeiBCWXF"
      },
      "execution_count": null,
      "outputs": []
    },
    {
      "cell_type": "markdown",
      "source": [
        "#### Modify & Add Conditional Edges"
      ],
      "metadata": {
        "id": "cmzOpF4HBBUA"
      }
    },
    {
      "cell_type": "code",
      "source": [
        "# Define the function that determines whether to continue or not\n",
        "def should_edit(state) -> Literal[\"writer\", \"publisher\"]:\n",
        "    messages = state['messages']\n",
        "    last_message = messages[-1]\n",
        "    # If the editor writes DONE in the text, then we END\n",
        "    if 'DONE' in last_message.content:\n",
        "        return \"publisher\"\n",
        "    # Otherwise, we pass info back to the writer (reply to the user)\n",
        "    return 'writer'\n",
        "\n",
        "# Define the function that determines whether to continue or not\n",
        "def should_publish(state) -> Literal[\"publish_tool\", END]:\n",
        "    messages = state['messages']\n",
        "    last_message = messages[-1]\n",
        "    # If the LLM makes a tool call, then we route to the \"tools\" node\n",
        "    if last_message.tool_calls:\n",
        "        return \"publish_tool\"\n",
        "    # Otherwise, we stop (reply to the user)\n",
        "    return END"
      ],
      "metadata": {
        "id": "q64mJyocBEV4"
      },
      "execution_count": null,
      "outputs": []
    },
    {
      "cell_type": "markdown",
      "source": [
        "#### Modify Graph"
      ],
      "metadata": {
        "id": "3GQmMdM5A1KY"
      }
    },
    {
      "cell_type": "code",
      "source": [
        "from langgraph.checkpoint import MemorySaver\n",
        "\n",
        "# Instantiate a new graph\n",
        "workflow = StateGraph(AgentState)\n",
        "\n",
        "# Add the nodes\n",
        "workflow.add_node(\"search\", search_node)\n",
        "workflow.add_node(\"tools\", tool_node)\n",
        "workflow.add_node(\"outliner\", outliner_node)\n",
        "workflow.add_node(\"writer\", writer_node)\n",
        "workflow.add_node(\"editor\", editor_node)\n",
        "workflow.add_node(\"publisher\", publisher)\n",
        "workflow.add_node(\"publish_tool\", publish_tool)\n",
        "\n",
        "# Set the entrypoint as `search`\n",
        "# This means that this node is the first one called\n",
        "workflow.set_entry_point(\"search\")\n",
        "# Add the edges\n",
        "workflow.add_conditional_edges(\n",
        "    \"search\",\n",
        "    should_search,\n",
        ")\n",
        "workflow.add_edge(\"tools\", 'search')\n",
        "workflow.add_edge(\"outliner\", \"writer\")\n",
        "workflow.add_edge(\"writer\", \"editor\")\n",
        "workflow.add_conditional_edges(\n",
        "    \"editor\",\n",
        "    should_edit\n",
        ")\n",
        "\n",
        "workflow.add_conditional_edges(\n",
        "    \"publisher\",\n",
        "    should_publish\n",
        ")\n",
        "workflow.add_edge(\"publish_tool\", \"publisher\")\n",
        "\n",
        "# Initialize memory to persist state between graph runs\n",
        "checkpointer = MemorySaver()\n",
        "graph = workflow.compile(checkpointer=checkpointer, interrupt_before=['editor'])"
      ],
      "metadata": {
        "id": "AdlDVTReA0gt"
      },
      "execution_count": null,
      "outputs": []
    },
    {
      "cell_type": "code",
      "source": [
        "display(\n",
        "    Image(\n",
        "        graph.get_graph().draw_mermaid_png(\n",
        "            draw_method=MermaidDrawMethod.API,\n",
        "        )\n",
        "    )\n",
        ")"
      ],
      "metadata": {
        "colab": {
          "base_uri": "https://localhost:8080/",
          "height": 572
        },
        "id": "wwpZJYvjBMLO",
        "outputId": "ad37d528-764f-4a54-a320-e7e54df9caae"
      },
      "execution_count": null,
      "outputs": [
        {
          "output_type": "display_data",
          "data": {
            "image/jpeg": "[encoded data removed]",
            "text/plain": [
              "<IPython.core.display.Image object>"
            ]
          },
          "metadata": {}
        }
      ]
    },
    {
      "cell_type": "markdown",
      "source": [
        "#### Test it out!"
      ],
      "metadata": {
        "id": "q-TfzdptT2AZ"
      }
    },
    {
      "cell_type": "code",
      "source": [
        "thread = {\"configurable\": {\"thread_id\": 2, \"recursion_limit\": 150}}\n",
        "input_message = HumanMessage(content=\"generate an article about tesla that involves elon musk\")\n",
        "\n",
        "\n",
        "for event in graph.stream({\"messages\": [input_message]}, thread, stream_mode=\"values\"):\n",
        "    event[\"messages\"][-1].pretty_print()"
      ],
      "metadata": {
        "colab": {
          "base_uri": "https://localhost:8080/"
        },
        "id": "sWWHRAmzBUC_",
        "outputId": "9a73b883-8213-4396-d5ef-d3686a2c922c"
      },
      "execution_count": null,
      "outputs": [
        {
          "output_type": "stream",
          "name": "stdout",
          "text": [
            "================================\u001b[1m Human Message \u001b[0m=================================\n",
            "\n",
            "generate an article about tesla that involves elon musk\n",
            "==================================\u001b[1m Ai Message \u001b[0m==================================\n",
            "Tool Calls:\n",
            "  tavily_search_results_json (call_QJsV5zcUNqTlT1Q5uXP4vh7w)\n",
            " Call ID: call_QJsV5zcUNqTlT1Q5uXP4vh7w\n",
            "  Args:\n",
            "    query: Tesla Elon Musk news\n",
            "=================================\u001b[1m Tool Message \u001b[0m=================================\n",
            "Name: tavily_search_results_json\n",
            "\n",
            "[{\"url\": \"https://www.bbc.com/news/articles/cz5reve8476o\", \"content\": \"Tesla boss Elon Musk says the electric car maker will start producing and using humanoid robots from next year. In a social media post, Mr Musk said the robots will first be used by Tesla, which ...\"}, {\"url\": \"https://www.theverge.com/2023/3/1/23620698/tesla-master-plan-3-elon-musk-ev-solar-fsd-gigafactory-investor-day\", \"content\": \"Elon Musk unveils a new Master Plan, a path to sustainable energy future, but no new cars\\nElon Musk unveils a new Master Plan, a path to sustainable energy future, but no new cars\\nThe billionaire CEO announced the third part of his company\\u2019s \\u2018Master Plan,\\u2019 outlining plans for a \\u2018fully sustainable earth.\\u2019 Ikea debuts a trio of affordable smart home sensors\\nGoogle\\u2019s new geothermal energy project is up and running\\nThe Cybertruck made a mark but missed its moment\\nSpotify Wrapped 2023 assigns you a \\u2018sound town\\u2019 based on your music taste\\nHow to find your 2023 Spotify Wrapped\\nVerge Deals\\n/ Sign up for Verge Deals to get deals on products we've tested sent to your inbox daily.\\n By\\nAndrew J. Hawkins and\\nUmar Shakir\\nShare this story\\nElon Musk revealed the third part of Tesla\\u2019s \\u201cMaster Plan,\\u201d in which the company will lead the global effort to eliminate fossil fuels and convert the world to sustainable energy. Musk adds that the infrastructure needed for this, including wind and solar, will take \\u201cless than 0.2 percent\\u201d of the Earth\\u2019s surface\\n\\u201cI really wanted today to be not just about Tesla investors who own stock, but really anyone who is an investor in Earth,\\u201d Musk said optimistically.\\n Related\\nThat plan, which was posted in 2016 under the cheeky title \\u201cPart Deux,\\u201d said that Tesla would create a thriving solar business, introduce multiple new vehicles across all major categories, achieve full autonomy, and launch a robotaxi network for vehicle owners to earn up to $30,000 annually.\\n\"}, {\"url\": \"https://www.npr.org/2024/06/14/g-s1-4359/elon-musk-tesla-pay-package-shareholder-vote\", \"content\": \"DETROIT \\u2014 Tesla shareholders voted Thursday to restore CEO Elon Musk's record $44.9 billion pay package that was thrown out by a Delaware judge earlier this year, sending a strong vote of ...\"}, {\"url\": \"https://www.nytimes.com/2024/07/29/business/elon-musk-tesla-robotaxi.html\", \"content\": \"Tesla: As sales of its electric cars have fallen, Tesla and its chief executive, Elon Musk, have sought to convince Wall Street that the company's future lies in robotaxis. Experts have doubts .\"}, {\"url\": \"https://www.theverge.com/24054854/tesla-next-generation-vehicle-ev-elon-musk\", \"content\": \"Mar 2, 2023\\nAndrew J. Hawkins\\u00a0and\\u00a0Umar Shakir\\nElon Musk unveils a new Master Plan, a path to sustainable energy future, but no new cars\\nElon Musk revealed the third part of Tesla\\u2019s \\u201cMaster Plan,\\u201d in which the company will lead the global effort to eliminate fossil fuels and convert the world to sustainable energy. Responding to a question about its next-gen vehicles during the earnings call, Tesla CEO Elon Musk said the company is targeting production \\u201ctowards the end of 2025\\u201d but warned of delays due to the complexities of the manufacturing process. The company\\u2019s CEO Elon Musk said its new \\u201ctabless\\u201d battery cells, as well as by changing the materials inside the cell, will allow Tesla to \\u201chalve\\u201d the price per kilowatt-hour, which will make electric cars roughly the same price as combustion engine ones.\\n Elon Musk said a $25,000 electric car with next-gen battery in the works\\nTesla announced that it will dramatically reduce the cost of its battery cells and packs \\u2014 which means the company\\u2019s new goal is a $25,000 electric car. Sep 8, 2023\\nTom Warren\\nTesla\\u2019s $25,000 \\u2018next-generation car\\u2019 will have a Cybertruck design\\nTesla is reportedly preparing to build a $25,000 electric car built on the company\\u2019s next-generation engineering platform.\"}]\n",
            "==================================\u001b[1m Ai Message \u001b[0m==================================\n",
            "\n",
            "I found several articles related to Tesla and Elon Musk:\n",
            "\n",
            "1. [Tesla boss Elon Musk says the electric car maker will start producing and using humanoid robots from next year](https://www.bbc.com/news/articles/cz5reve8476o)\n",
            "2. [Elon Musk unveils a new Master Plan, a path to sustainable energy future, but no new cars](https://www.theverge.com/2023/3/1/23620698/tesla-master-plan-3-elon-musk-ev-solar-fsd-gigafactory-investor-day)\n",
            "3. [Tesla shareholders voted to restore CEO Elon Musk's record $44.9 billion pay package](https://www.npr.org/2024/06/14/g-s1-4359/elon-musk-tesla-pay-package-shareholder-vote)\n",
            "4. [Tesla and Elon Musk's focus on robotaxis as sales of electric cars fall](https://www.nytimes.com/2024/07/29/business/elon-musk-tesla-robotaxi.html)\n",
            "5. [Elon Musk reveals Tesla's plan to lead the global effort to eliminate fossil fuels and convert to sustainable energy](https://www.theverge.com/24054854/tesla-next-generation-vehicle-ev-elon-musk)\n",
            "==================================\u001b[1m Ai Message \u001b[0m==================================\n",
            "\n",
            "Based on the articles found, here is an outline for the article about Tesla involving Elon Musk:\n",
            "\n",
            "I. Introduction\n",
            "   - Brief overview of Tesla and its significance in the electric vehicle industry\n",
            "   - Introduction to Elon Musk and his role as the CEO of Tesla\n",
            "\n",
            "II. Tesla's Innovation in Robotics\n",
            "   - Elon Musk's announcement of Tesla's plan to produce humanoid robots\n",
            "   - Potential applications of humanoid robots in Tesla's operations\n",
            "   - Implications of Tesla's entry into the robotics industry\n",
            "\n",
            "III. Tesla's Master Plan for Sustainable Energy\n",
            "   - Overview of Elon Musk's Master Plan to eliminate fossil fuels and promote sustainable energy\n",
            "   - Tesla's efforts in renewable energy sources like wind and solar power\n",
            "   - Impact of Tesla's sustainable energy initiatives on the environment\n",
            "\n",
            "IV. Elon Musk's Pay Package and Shareholder Vote\n",
            "   - Discussion on Tesla shareholders voting to restore Elon Musk's record pay package\n",
            "   - Analysis of the implications of Musk's compensation on Tesla's financial performance\n",
            "   - Investor sentiment towards Musk's pay package and its alignment with company goals\n",
            "\n",
            "V. Focus on Robotaxis and Future Vehicle Plans\n",
            "   - Tesla's shift towards robotaxis as a key focus for the company's future growth\n",
            "   - Challenges and opportunities in the development of autonomous vehicle technology\n",
            "   - Elon Musk's vision for Tesla's next-generation vehicles and their impact on the market\n",
            "\n",
            "VI. Conclusion\n",
            "   - Recap of Tesla's key initiatives under Elon Musk's leadership\n",
            "   - Reflection on Tesla's role in shaping the future of sustainable transportation\n",
            "   - Closing thoughts on the significance of Elon Musk's influence on Tesla's trajectory\n",
            "\n",
            "Sources:\n",
            "1. [BBC - Tesla boss Elon Musk says the electric car maker will start producing and using humanoid robots from next year](https://www.bbc.com/news/articles/cz5reve8476o)\n",
            "2. [The Verge - Elon Musk unveils a new Master Plan, a path to sustainable energy future, but no new cars](https://www.theverge.com/2023/3/1/23620698/tesla-master-plan-3-elon-musk-ev-solar-fsd-gigafactory-investor-day)\n",
            "3. [NPR - Tesla shareholders voted to restore CEO Elon Musk's record $44.9 billion pay package](https://www.npr.org/2024/06/14/g-s1-4359/elon-musk-tesla-pay-package-shareholder-vote)\n",
            "4. [The New York Times - Tesla and Elon Musk's focus on robotaxis as sales of electric cars fall](https://www.nytimes.com/2024/07/29/business/elon-musk-tesla-robotaxi.html)\n",
            "5. [The Verge - Elon Musk reveals Tesla's plan to lead the global effort to eliminate fossil fuels and convert to sustainable energy](https://www.theverge.com/24054854/tesla-next-generation-vehicle-ev-elon-musk)\n",
            "==================================\u001b[1m Ai Message \u001b[0m==================================\n",
            "\n",
            "TITLE: The Evolution of Tesla under Elon Musk's Leadership\n",
            "\n",
            "BODY:\n",
            "Tesla, the pioneering electric car manufacturer, has been at the forefront of innovation in the automotive industry, with CEO Elon Musk leading the charge towards a sustainable future. Musk's visionary leadership has not only transformed Tesla into a household name but has also propelled the company into new frontiers of technology and sustainability.\n",
            "\n",
            "One of the recent groundbreaking announcements by Elon Musk is Tesla's foray into robotics. Musk revealed plans for Tesla to produce and utilize humanoid robots starting next year. These robots are set to revolutionize Tesla's operations, potentially enhancing efficiency and productivity in manufacturing processes. The introduction of humanoid robots underscores Tesla's commitment to pushing the boundaries of technology and automation in the automotive sector.\n",
            "\n",
            "In line with Tesla's commitment to sustainability, Elon Musk unveiled a comprehensive Master Plan aimed at eliminating fossil fuels and promoting sustainable energy practices. Musk's vision for a fully sustainable Earth includes leveraging renewable energy sources such as wind and solar power. By leading the global effort to transition towards sustainable energy, Tesla under Musk's guidance is setting a new standard for environmental responsibility in the automotive industry.\n",
            "\n",
            "Despite facing challenges, including fluctuations in electric car sales, Tesla and Elon Musk remain focused on the future of transportation. The company's shift towards robotaxis as a key focus area reflects Musk's strategic vision for Tesla's growth trajectory. Additionally, Musk's ambitious plans for next-generation vehicles, including a $25,000 electric car with advanced battery technology, demonstrate Tesla's commitment to innovation and affordability in the electric vehicle market.\n",
            "\n",
            "Elon Musk's leadership at Tesla has not been without controversy, particularly regarding his record $44.9 billion pay package. However, Tesla shareholders recently voted to reinstate Musk's compensation, signaling confidence in his ability to drive the company's success. Musk's compensation package aligns with Tesla's long-term goals and underscores the importance of visionary leadership in shaping the company's future.\n",
            "\n",
            "In conclusion, Elon Musk's influence on Tesla's evolution cannot be overstated. From robotics and sustainable energy initiatives to next-generation vehicles and strategic planning, Musk's leadership has been instrumental in positioning Tesla as a trailblazer in the automotive industry. As Tesla continues to innovate under Musk's guidance, the company's impact on the future of transportation and sustainability is poised to be transformative.\n",
            "\n",
            "Sources:\n",
            "1. [BBC - Tesla boss Elon Musk says the electric car maker will start producing and using humanoid robots from next year](https://www.bbc.com/news/articles/cz5reve8476o)\n",
            "2. [The Verge - Elon Musk unveils a new Master Plan, a path to sustainable energy future, but no new cars](https://www.theverge.com/2023/3/1/23620698/tesla-master-plan-3-elon-musk-ev-solar-fsd-gigafactory-investor-day)\n",
            "3. [NPR - Tesla shareholders voted to restore CEO Elon Musk's record $44.9 billion pay package](https://www.npr.org/2024/06/14/g-s1-4359/elon-musk-tesla-pay-package-shareholder-vote)\n",
            "4. [The New York Times - Tesla and Elon Musk's focus on robotaxis as sales of electric cars fall](https://www.nytimes.com/2024/07/29/business/elon-musk-tesla-robotaxi.html)\n",
            "5. [The Verge - Elon Musk reveals Tesla's plan to lead the global effort to eliminate fossil fuels and convert to sustainable energy](https://www.theverge.com/24054854/tesla-next-generation-vehicle-ev-elon-musk)\n"
          ]
        }
      ]
    },
    {
      "cell_type": "code",
      "source": [
        "graph.update_state(thread, {\"messages\": HumanMessage(content='DONE')}, as_node=\"editor\")\n",
        "\n",
        "messages = []\n",
        "for event in graph.stream(None, thread, stream_mode=\"values\"):\n",
        "  messages.append(event['messages'][-1])\n",
        "  event[\"messages\"][-1].pretty_print()"
      ],
      "metadata": {
        "colab": {
          "base_uri": "https://localhost:8080/"
        },
        "id": "9hWsRuKrBpZM",
        "outputId": "5c02c238-614d-4feb-f24a-bb0c2bd3b691"
      },
      "execution_count": null,
      "outputs": [
        {
          "output_type": "stream",
          "name": "stdout",
          "text": [
            "==================================\u001b[1m Ai Message \u001b[0m==================================\n",
            "Tool Calls:\n",
            "  publish_article (call_nTATYgi4OLIR55ZKP5ghzvFs)\n",
            " Call ID: call_nTATYgi4OLIR55ZKP5ghzvFs\n",
            "  Args:\n",
            "    title: The Evolution of Tesla under Elon Musk's Leadership\n",
            "    body: Tesla, the pioneering electric car manufacturer, has been at the forefront of innovation in the automotive industry, with CEO Elon Musk leading the charge towards a sustainable future. Musk's visionary leadership has not only transformed Tesla into a household name but has also propelled the company into new frontiers of technology and sustainability.\n",
            "\n",
            "One of the recent groundbreaking announcements by Elon Musk is Tesla's foray into robotics. Musk revealed plans for Tesla to produce and utilize humanoid robots starting next year. These robots are set to revolutionize Tesla's operations, potentially enhancing efficiency and productivity in manufacturing processes. The introduction of humanoid robots underscores Tesla's commitment to pushing the boundaries of technology and automation in the automotive sector.\n",
            "\n",
            "In line with Tesla's commitment to sustainability, Elon Musk unveiled a comprehensive Master Plan aimed at eliminating fossil fuels and promoting sustainable energy practices. Musk's vision for a fully sustainable Earth includes leveraging renewable energy sources such as wind and solar power. By leading the global effort to transition towards sustainable energy, Tesla under Musk's guidance is setting a new standard for environmental responsibility in the automotive industry.\n",
            "\n",
            "Despite facing challenges, including fluctuations in electric car sales, Tesla and Elon Musk remain focused on the future of transportation. The company's shift towards robotaxis as a key focus area reflects Musk's strategic vision for Tesla's growth trajectory. Additionally, Musk's ambitious plans for next-generation vehicles, including a $25,000 electric car with advanced battery technology, demonstrate Tesla's commitment to innovation and affordability in the electric vehicle market.\n",
            "\n",
            "Elon Musk's leadership at Tesla has not been without controversy, particularly regarding his record $44.9 billion pay package. However, Tesla shareholders recently voted to reinstate Musk's compensation, signaling confidence in his ability to drive the company's success. Musk's compensation package aligns with Tesla's long-term goals and underscores the importance of visionary leadership in shaping the company's future.\n",
            "\n",
            "In conclusion, Elon Musk's influence on Tesla's evolution cannot be overstated. From robotics and sustainable energy initiatives to next-generation vehicles and strategic planning, Musk's leadership has been instrumental in positioning Tesla as a trailblazer in the automotive industry. As Tesla continues to innovate under Musk's guidance, the company's impact on the future of transportation and sustainability is poised to be transformative.\n",
            "    references: ['https://www.bbc.com/news/articles/cz5reve8476o', 'https://www.theverge.com/2023/3/1/23620698/tesla-master-plan-3-elon-musk-ev-solar-fsd-gigafactory-investor-day', 'https://www.npr.org/2024/06/14/g-s1-4359/elon-musk-tesla-pay-package-shareholder-vote', 'https://www.nytimes.com/2024/07/29/business/elon-musk-tesla-robotaxi.html', 'https://www.theverge.com/24054854/tesla-next-generation-vehicle-ev-elon-musk']\n",
            "=================================\u001b[1m Tool Message \u001b[0m=================================\n",
            "Name: publish_article\n",
            "\n",
            "{\"timestamp\": 1722544218.4614549, \"title\": \"The Evolution of Tesla under Elon Musk's Leadership\", \"body\": \"Tesla, the pioneering electric car manufacturer, has been at the forefront of innovation in the automotive industry, with CEO Elon Musk leading the charge towards a sustainable future. Musk's visionary leadership has not only transformed Tesla into a household name but has also propelled the company into new frontiers of technology and sustainability.\\n\\nOne of the recent groundbreaking announcements by Elon Musk is Tesla's foray into robotics. Musk revealed plans for Tesla to produce and utilize humanoid robots starting next year. These robots are set to revolutionize Tesla's operations, potentially enhancing efficiency and productivity in manufacturing processes. The introduction of humanoid robots underscores Tesla's commitment to pushing the boundaries of technology and automation in the automotive sector.\\n\\nIn line with Tesla's commitment to sustainability, Elon Musk unveiled a comprehensive Master Plan aimed at eliminating fossil fuels and promoting sustainable energy practices. Musk's vision for a fully sustainable Earth includes leveraging renewable energy sources such as wind and solar power. By leading the global effort to transition towards sustainable energy, Tesla under Musk's guidance is setting a new standard for environmental responsibility in the automotive industry.\\n\\nDespite facing challenges, including fluctuations in electric car sales, Tesla and Elon Musk remain focused on the future of transportation. The company's shift towards robotaxis as a key focus area reflects Musk's strategic vision for Tesla's growth trajectory. Additionally, Musk's ambitious plans for next-generation vehicles, including a $25,000 electric car with advanced battery technology, demonstrate Tesla's commitment to innovation and affordability in the electric vehicle market.\\n\\nElon Musk's leadership at Tesla has not been without controversy, particularly regarding his record $44.9 billion pay package. However, Tesla shareholders recently voted to reinstate Musk's compensation, signaling confidence in his ability to drive the company's success. Musk's compensation package aligns with Tesla's long-term goals and underscores the importance of visionary leadership in shaping the company's future.\\n\\nIn conclusion, Elon Musk's influence on Tesla's evolution cannot be overstated. From robotics and sustainable energy initiatives to next-generation vehicles and strategic planning, Musk's leadership has been instrumental in positioning Tesla as a trailblazer in the automotive industry. As Tesla continues to innovate under Musk's guidance, the company's impact on the future of transportation and sustainability is poised to be transformative.\", \"references\": [\"https://www.bbc.com/news/articles/cz5reve8476o\", \"https://www.theverge.com/2023/3/1/23620698/tesla-master-plan-3-elon-musk-ev-solar-fsd-gigafactory-investor-day\", \"https://www.npr.org/2024/06/14/g-s1-4359/elon-musk-tesla-pay-package-shareholder-vote\", \"https://www.nytimes.com/2024/07/29/business/elon-musk-tesla-robotaxi.html\", \"https://www.theverge.com/24054854/tesla-next-generation-vehicle-ev-elon-musk\"]}\n",
            "==================================\u001b[1m Ai Message \u001b[0m==================================\n",
            "\n",
            "{\n",
            "    \"timestamp\": 1722544218.4614549,\n",
            "    \"title\": \"The Evolution of Tesla under Elon Musk's Leadership\",\n",
            "    \"body\": \"Tesla, the pioneering electric car manufacturer, has been at the forefront of innovation in the automotive industry, with CEO Elon Musk leading the charge towards a sustainable future. Musk's visionary leadership has not only transformed Tesla into a household name but has also propelled the company into new frontiers of technology and sustainability.\\n\\nOne of the recent groundbreaking announcements by Elon Musk is Tesla's foray into robotics. Musk revealed plans for Tesla to produce and utilize humanoid robots starting next year. These robots are set to revolutionize Tesla's operations, potentially enhancing efficiency and productivity in manufacturing processes. The introduction of humanoid robots underscores Tesla's commitment to pushing the boundaries of technology and automation in the automotive sector.\\n\\nIn line with Tesla's commitment to sustainability, Elon Musk unveiled a comprehensive Master Plan aimed at eliminating fossil fuels and promoting sustainable energy practices. Musk's vision for a fully sustainable Earth includes leveraging renewable energy sources such as wind and solar power. By leading the global effort to transition towards sustainable energy, Tesla under Musk's guidance is setting a new standard for environmental responsibility in the automotive industry.\\n\\nDespite facing challenges, including fluctuations in electric car sales, Tesla and Elon Musk remain focused on the future of transportation. The company's shift towards robotaxis as a key focus area reflects Musk's strategic vision for Tesla's growth trajectory. Additionally, Musk's ambitious plans for next-generation vehicles, including a $25,000 electric car with advanced battery technology, demonstrate Tesla's commitment to innovation and affordability in the electric vehicle market.\\n\\nElon Musk's leadership at Tesla has not been without controversy, particularly regarding his record $44.9 billion pay package. However, Tesla shareholders recently voted to reinstate Musk's compensation, signaling confidence in his ability to drive the company's success. Musk's compensation package aligns with Tesla's long-term goals and underscores the importance of visionary leadership in shaping the company's future.\\n\\nIn conclusion, Elon Musk's influence on Tesla's evolution cannot be overstated. From robotics and sustainable energy initiatives to next-generation vehicles and strategic planning, Musk's leadership has been instrumental in positioning Tesla as a trailblazer in the automotive industry. As Tesla continues to innovate under Musk's guidance, the company's impact on the future of transportation and sustainability is poised to be transformative.\",\n",
            "    \"references\": [\n",
            "        \"https://www.bbc.com/news/articles/cz5reve8476o\",\n",
            "        \"https://www.theverge.com/2023/3/1/23620698/tesla-master-plan-3-elon-musk-ev-solar-fsd-gigafactory-investor-day\",\n",
            "        \"https://www.npr.org/2024/06/14/g-s1-4359/elon-musk-tesla-pay-package-shareholder-vote\",\n",
            "        \"https://www.nytimes.com/2024/07/29/business/elon-musk-tesla-robotaxi.html\",\n",
            "        \"https://www.theverge.com/24054854/tesla-next-generation-vehicle-ev-elon-musk\"\n",
            "    ]\n",
            "}\n"
          ]
        }
      ]
    },
    {
      "cell_type": "code",
      "source": [
        "article_json = json.loads(messages[-2].content)\n",
        "print(json.dumps(article_json, indent=4))"
      ],
      "metadata": {
        "colab": {
          "base_uri": "https://localhost:8080/"
        },
        "id": "A3_NPPAySi_R",
        "outputId": "ccab92b0-6ca4-4e46-f237-86470624e141"
      },
      "execution_count": null,
      "outputs": [
        {
          "output_type": "stream",
          "name": "stdout",
          "text": [
            "{\n",
            "    \"timestamp\": 1722544218.4614549,\n",
            "    \"title\": \"The Evolution of Tesla under Elon Musk's Leadership\",\n",
            "    \"body\": \"Tesla, the pioneering electric car manufacturer, has been at the forefront of innovation in the automotive industry, with CEO Elon Musk leading the charge towards a sustainable future. Musk's visionary leadership has not only transformed Tesla into a household name but has also propelled the company into new frontiers of technology and sustainability.\\n\\nOne of the recent groundbreaking announcements by Elon Musk is Tesla's foray into robotics. Musk revealed plans for Tesla to produce and utilize humanoid robots starting next year. These robots are set to revolutionize Tesla's operations, potentially enhancing efficiency and productivity in manufacturing processes. The introduction of humanoid robots underscores Tesla's commitment to pushing the boundaries of technology and automation in the automotive sector.\\n\\nIn line with Tesla's commitment to sustainability, Elon Musk unveiled a comprehensive Master Plan aimed at eliminating fossil fuels and promoting sustainable energy practices. Musk's vision for a fully sustainable Earth includes leveraging renewable energy sources such as wind and solar power. By leading the global effort to transition towards sustainable energy, Tesla under Musk's guidance is setting a new standard for environmental responsibility in the automotive industry.\\n\\nDespite facing challenges, including fluctuations in electric car sales, Tesla and Elon Musk remain focused on the future of transportation. The company's shift towards robotaxis as a key focus area reflects Musk's strategic vision for Tesla's growth trajectory. Additionally, Musk's ambitious plans for next-generation vehicles, including a $25,000 electric car with advanced battery technology, demonstrate Tesla's commitment to innovation and affordability in the electric vehicle market.\\n\\nElon Musk's leadership at Tesla has not been without controversy, particularly regarding his record $44.9 billion pay package. However, Tesla shareholders recently voted to reinstate Musk's compensation, signaling confidence in his ability to drive the company's success. Musk's compensation package aligns with Tesla's long-term goals and underscores the importance of visionary leadership in shaping the company's future.\\n\\nIn conclusion, Elon Musk's influence on Tesla's evolution cannot be overstated. From robotics and sustainable energy initiatives to next-generation vehicles and strategic planning, Musk's leadership has been instrumental in positioning Tesla as a trailblazer in the automotive industry. As Tesla continues to innovate under Musk's guidance, the company's impact on the future of transportation and sustainability is poised to be transformative.\",\n",
            "    \"references\": [\n",
            "        \"https://www.bbc.com/news/articles/cz5reve8476o\",\n",
            "        \"https://www.theverge.com/2023/3/1/23620698/tesla-master-plan-3-elon-musk-ev-solar-fsd-gigafactory-investor-day\",\n",
            "        \"https://www.npr.org/2024/06/14/g-s1-4359/elon-musk-tesla-pay-package-shareholder-vote\",\n",
            "        \"https://www.nytimes.com/2024/07/29/business/elon-musk-tesla-robotaxi.html\",\n",
            "        \"https://www.theverge.com/24054854/tesla-next-generation-vehicle-ev-elon-musk\"\n",
            "    ]\n",
            "}\n"
          ]
        }
      ]
    },
    {
      "cell_type": "code",
      "source": [],
      "metadata": {
        "id": "XI8SYNwdo35d"
      },
      "execution_count": null,
      "outputs": []
    }
  ]
}