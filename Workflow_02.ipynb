{
 "cells": [
  {
   "cell_type": "markdown",
   "metadata": {},
   "source": [
    "# Article writer workflow\n",
    "\n",
    "\n",
    "![Workflow 01](https://github.com/dinukasaminda/LangGraph-Lessons/blob/main/workflows_drafts/Article%20writer%20workflow.png?raw=true)"
   ]
  },
  {
   "cell_type": "code",
   "execution_count": 29,
   "metadata": {},
   "outputs": [],
   "source": [
    "# !pip install openai\n",
    "# !pip install PyYAML\n",
    "# !pip install langgraph\n",
    "# !pip install langchain_community\n",
    "# !pip install langchain_openai"
   ]
  },
  {
   "cell_type": "code",
   "execution_count": 30,
   "metadata": {},
   "outputs": [],
   "source": [
    "import os, yaml\n",
    "from openai import OpenAI, ChatCompletion"
   ]
  },
  {
   "cell_type": "code",
   "execution_count": 31,
   "metadata": {},
   "outputs": [],
   "source": [
    "with open('./credentials.yaml') as f:\n",
    "    cadentials = yaml.load(f, Loader=yaml.FullLoader)\n",
    "\n",
    "os.environ['OPENAI_API_KEY'] = cadentials['OPENAI_API_KEY']\n",
    "os.environ['TAVILY_API_KEY'] = cadentials['TAVILY_API_KEY']"
   ]
  },
  {
   "cell_type": "markdown",
   "metadata": {},
   "source": [
    "## Define Graph State"
   ]
  },
  {
   "cell_type": "code",
   "execution_count": 32,
   "metadata": {},
   "outputs": [],
   "source": [
    "from typing import Annotated,Literal,TypedDict\n",
    "from langgraph.graph.message import add_messages \n",
    "\n",
    "class AgentState(TypedDict):\n",
    "    messages: Annotated[list,add_messages]\n",
    "    \n"
   ]
  },
  {
   "cell_type": "code",
   "execution_count": 33,
   "metadata": {},
   "outputs": [],
   "source": [
    "from langchain_community.tools.tavily_search import TavilySearchResults\n",
    "\n",
    "tools = [TavilySearchResults(max_results=5)]"
   ]
  },
  {
   "cell_type": "markdown",
   "metadata": {},
   "source": [
    "## Creating Agents"
   ]
  },
  {
   "cell_type": "code",
   "execution_count": 34,
   "metadata": {},
   "outputs": [],
   "source": [
    "from langchain_core.prompts import ChatPromptTemplate, MessagesPlaceholder\n",
    "\n",
    "\n",
    "def create_agent(llm, tools, system_message: str):\n",
    "    \"\"\"Create an agent.\"\"\"\n",
    "    prompt = ChatPromptTemplate.from_messages(\n",
    "        [\n",
    "            (\n",
    "                \"system\",\n",
    "                \"{system_message}\",\n",
    "            ),\n",
    "            MessagesPlaceholder(variable_name=\"messages\"),\n",
    "        ]\n",
    "    )\n",
    "    prompt = prompt.partial(system_message=system_message)\n",
    "    if tools:\n",
    "      return prompt | llm.bind_tools(tools)\n",
    "    else:\n",
    "      return prompt | llm"
   ]
  },
  {
   "cell_type": "code",
   "execution_count": 35,
   "metadata": {},
   "outputs": [],
   "source": [
    "search_template = \"\"\"Your job is to search the web for related news that would be relevant to generate the article described by the user.\n",
    "\n",
    "                  NOTE: Do not write the article. Just search the web for related news if needed and then forward that news to the outliner node.\n",
    "                  \"\"\"\n",
    "\n",
    "outliner_template = \"\"\"Your job is to take as input a list of articles from the web along with users instruction on what article they want to write and generate an outline\n",
    "                       for the article.\n",
    "                    \"\"\"\n",
    "\n",
    "writer_template = \"\"\"Your job is to write an article, do it in this format:\n",
    "\n",
    "                        TITLE: <title>\n",
    "                        BODY: <body>\n",
    "\n",
    "                      NOTE: Do not copy the outline. You need to write the article but abide by the outline.\n",
    "\n",
    "                       ```\n",
    "                    \"\"\""
   ]
  },
  {
   "cell_type": "code",
   "execution_count": 36,
   "metadata": {},
   "outputs": [],
   "source": [
    "from langchain_openai import ChatOpenAI\n",
    "\n",
    "# Update the ChatOpenAI initialization with model name\n",
    "llm = ChatOpenAI(model=\"gpt-3.5-turbo\", temperature=0)\n",
    "\n",
    "\n",
    "search_agent = create_agent(llm, tools, search_template)\n",
    "outliner_agent = create_agent(llm, [], outliner_template)\n",
    "writer_agent = create_agent(llm, [], writer_template)"
   ]
  },
  {
   "cell_type": "markdown",
   "metadata": {},
   "source": [
    "## Define nodes"
   ]
  },
  {
   "cell_type": "code",
   "execution_count": 37,
   "metadata": {},
   "outputs": [],
   "source": [
    "def agent_node(state, agent, name):\n",
    "  result = agent.invoke(state)\n",
    "  return {\n",
    "      'messages': [result]\n",
    "  }"
   ]
  },
  {
   "cell_type": "code",
   "execution_count": 38,
   "metadata": {},
   "outputs": [],
   "source": [
    "import functools\n",
    "\n",
    "search_node = functools.partial(agent_node, agent=search_agent, name=\"Search Agent\")\n",
    "outliner_node = functools.partial(agent_node, agent=outliner_agent, name=\"Outliner Agent\")\n",
    "writer_node = functools.partial(agent_node, agent=writer_agent, name=\"Writer Agent\")"
   ]
  },
  {
   "cell_type": "code",
   "execution_count": 39,
   "metadata": {},
   "outputs": [],
   "source": [
    "from langgraph.prebuilt import ToolNode\n",
    "\n",
    "tool_node = ToolNode(tools)"
   ]
  },
  {
   "cell_type": "markdown",
   "metadata": {},
   "source": [
    "## Define Edges"
   ]
  },
  {
   "cell_type": "code",
   "execution_count": 40,
   "metadata": {},
   "outputs": [],
   "source": [
    "# Conditional edge condtion\n",
    "def should_search(state) -> Literal[\"tools\", \"outliner\"]:\n",
    "    messages = state['messages']\n",
    "    last_message = messages[-1]\n",
    "    # If the LLM makes a tool call, then we route to the \"tools\" node\n",
    "    if last_message.tool_calls:\n",
    "        return \"tools\"\n",
    "    # Otherwise, we stop (send state to outliner)\n",
    "    return \"outliner\""
   ]
  },
  {
   "cell_type": "markdown",
   "metadata": {},
   "source": [
    "## Build Graph"
   ]
  },
  {
   "cell_type": "code",
   "execution_count": 41,
   "metadata": {},
   "outputs": [],
   "source": [
    "from langgraph.graph import END, StateGraph\n",
    "\n",
    "workflow = StateGraph(AgentState)\n",
    "\n",
    "# add nodes\n",
    "workflow.add_node(\"search\", search_node)\n",
    "workflow.add_node(\"tools\", tool_node)\n",
    "workflow.add_node(\"outliner\", outliner_node)\n",
    "workflow.add_node(\"writer\", writer_node)\n",
    "\n",
    "# add edges\n",
    "workflow.set_entry_point(\"search\")\n",
    "workflow.add_conditional_edges(\n",
    "    \"search\",\n",
    "    should_search\n",
    ")\n",
    "workflow.add_edge(\"tools\", \"search\")\n",
    "workflow.add_edge(\"outliner\", \"writer\")\n",
    "workflow.add_edge(\"writer\", END)\n",
    "\n",
    "graph = workflow.compile()"
   ]
  },
  {
   "cell_type": "markdown",
   "metadata": {},
   "source": [
    "## Visualize Graph"
   ]
  },
  {
   "cell_type": "code",
   "execution_count": 42,
   "metadata": {},
   "outputs": [
    {
     "data": {
      "image/png": "[encoded data removed]",
      "text/plain": [
       "<IPython.core.display.Image object>"
      ]
     },
     "metadata": {},
     "output_type": "display_data"
    }
   ],
   "source": [
    "from IPython.display import Image, display\n",
    "from langchain_core.runnables.graph import CurveStyle, MermaidDrawMethod\n",
    "\n",
    "display(\n",
    "    Image(\n",
    "        graph.get_graph().draw_mermaid_png(\n",
    "            draw_method=MermaidDrawMethod.API,\n",
    "        )\n",
    "    )\n",
    ")"
   ]
  },
  {
   "cell_type": "markdown",
   "metadata": {},
   "source": [
    "## Test it out"
   ]
  },
  {
   "cell_type": "code",
   "execution_count": 47,
   "metadata": {},
   "outputs": [
    {
     "name": "stdout",
     "output_type": "stream",
     "text": [
      "================================\u001b[1m Human Message \u001b[0m=================================\n",
      "\n",
      "generate an article about multi agentic worflows\n",
      "==================================\u001b[1m Ai Message \u001b[0m==================================\n",
      "Tool Calls:\n",
      "  tavily_search_results_json (call_1LehCeQ6b7j4F46TUcZTmSxt)\n",
      " Call ID: call_1LehCeQ6b7j4F46TUcZTmSxt\n",
      "  Args:\n",
      "    query: multi agent workflows\n",
      "=================================\u001b[1m Tool Message \u001b[0m=================================\n",
      "Name: tavily_search_results_json\n",
      "\n",
      "[{\"url\": \"https://temporal.io/blog/what-are-multi-agent-workflows\", \"content\": \"Temporal is well-suited to support multi-agent workflows because it handles the orchestration, state management, and coordination across different agents (AI or otherwise). Think of Temporal as the \\\"conductor,\\\" managing interactions among multiple agents by setting up workflows where agents communicate and pass information as tasks are completed. For multi-agent systems that involve parallel tasks, Temporal’s parallelism and concurrency control enable multiple agents to work simultaneously without blocking each other. In use cases where agents contribute to a long-running process — like generating and refining a report over several steps — Temporal’s ability to maintain workflows over hours or even days is invaluable. Temporal’s orchestration, durability, and ability to manage complex stateful and stateless interactions make it a perfect foundation for multi-agent workflows in AI applications.\"}, {\"url\": \"https://docs.llamaindex.ai/en/stable/understanding/agent/multi_agents/\", \"content\": \"Multi-agent workflows - LlamaIndex Multi-agent workflows Agents Agents [ ]  Agents Agents Building a Multi-PDF Agent using Query Pipelines and HyDE Multi-Agent Research Workflow with AgentWorkflow OpenAI Agent with Query Engine Tools ReAct Agent with Query Engine (RAG) Tools Agents Multi-Modal LLM using Google's Gemini model for image understanding and build Retrieval Augmented Generation with LlamaIndex Agent Multi-Agent Workflows# Here's a simple example of setting up a multi-agent workflow with a calculator agent and a retriever agent: Each agent can then: agents=[...], agents=[...], When this function is called (i.e, when an agent calls this tool), it will block the workflow execution until the user sends the required confirmation event.\"}, {\"url\": \"https://blog.langchain.dev/langgraph-multi-agent-workflows/\", \"content\": \"LangGraph: Multi-Agent Workflows LangGraph: Multi-Agent Workflows Last week we highlighted LangGraph - a new package (available in both Python and JS) to better enable creation of LLM workflows containing cycles, which are a critical component of most agent runtimes. Today, we're excited to highlight a second set of use cases for langgraph - multi-agent workflows. Three concrete examples of using LangGraph for multi-agent workflows Two examples of third-party applications built on top of LangGraph using multi-agent workflows (GPT-Newspaper and CrewAI) What is \\\"multi-agent\\\"? Multi-agent examples We've added three separate example of multi-agent workflows to the langgraph repo. These are now other langgraph agents. LangGraph is not the first framework to support multi-agent workflows. Autogen emerged as perhaps the first multi-agent framework.\"}, {\"url\": \"https://www.youtube.com/watch?v=hvAPnpSfSGo\", \"content\": \"LangGraph makes it easy to construct multi-agent workflows, where each agent is a node, and the edges define how they communicate.\"}, {\"url\": \"https://medium.com/@desmond2112/multi-ai-agent-workflow-the-end-is-nigh-for-devs-a12561296546\", \"content\": \"Microsoft’s Autogen is a framework that enables the development of Large Language Model (LLM) applications using multiple agents that can converse with each other iteratively to solve tasks. There are 4 key concepts in Autogen — Skill, Model, Agent, Workflow. We really need to do this for security and to keep a sane workspace as Autogen agents are able to download and install packages/dependencies to complete their tasks. Using the Playground feature in Autogen Studio, I did a simple experiment by running the following prompt through a pre-configured Visualization Agent Workflow which uses OpenAI’s GPT-4 and had a custom System Prompt suited for drawing charts and plots.\"}]\n",
      "==================================\u001b[1m Ai Message \u001b[0m==================================\n",
      "\n",
      "I found several sources related to multi-agent workflows:\n",
      "\n",
      "1. [Temporal Blog - What are Multi-Agent Workflows](https://temporal.io/blog/what-are-multi-agent-workflows): Temporal is well-suited to support multi-agent workflows by handling orchestration, state management, and coordination across different agents. It acts as the \"conductor\" managing interactions among multiple agents.\n",
      "\n",
      "2. [LlamaIndex Documentation - Multi-Agent Workflows](https://docs.llamaindex.ai/en/stable/understanding/agent/multi_agents/): This source discusses building a multi-PDF agent using query pipelines and HyDE, multi-agent research workflows, and examples of setting up multi-agent workflows with different agents.\n",
      "\n",
      "3. [LangGraph Blog - Multi-Agent Workflows](https://blog.langchain.dev/langgraph-multi-agent-workflows/): LangGraph is highlighted as a tool for creating multi-agent workflows. It provides examples of using LangGraph for multi-agent workflows and third-party applications built on top of LangGraph.\n",
      "\n",
      "4. [YouTube Video - LangGraph Multi-Agent Workflows](https://www.youtube.com/watch?v=hvAPnpSfSGo): This video demonstrates how LangGraph makes it easy to construct multi-agent workflows where each agent is a node, and the edges define how they communicate.\n",
      "\n",
      "5. [Medium Article - Multi-AI Agent Workflow: The End is Nigh for Devs](https://medium.com/@desmond2112/multi-ai-agent-workflow-the-end-is-nigh-for-devs-a12561296546): Microsoft's Autogen framework enables the development of Large Language Model (LLM) applications using multiple agents that can converse with each other iteratively to solve tasks.\n",
      "\n",
      "These sources provide insights into the concept of multi-agent workflows and how various tools and frameworks support the implementation of such workflows.\n",
      "==================================\u001b[1m Ai Message \u001b[0m==================================\n",
      "\n",
      "Based on the information gathered from the sources, here is an outline for the article about multi-agent workflows:\n",
      "\n",
      "I. Introduction\n",
      "    A. Definition of Multi-Agent Workflows\n",
      "    B. Importance of Multi-Agent Workflows in Various Applications\n",
      "\n",
      "II. Tools and Frameworks for Multi-Agent Workflows\n",
      "    A. Temporal\n",
      "        1. Orchestration and State Management\n",
      "        2. Coordination Across Different Agents\n",
      "    B. LangGraph\n",
      "        1. Creation of Multi-Agent Workflows\n",
      "        2. Examples of Multi-Agent Workflows Using LangGraph\n",
      "    C. Autogen\n",
      "        1. Framework for LLM Applications\n",
      "        2. Key Concepts: Skill, Model, Agent, Workflow\n",
      "\n",
      "III. Implementation of Multi-Agent Workflows\n",
      "    A. Setting Up Multi-Agent Workflows\n",
      "        1. Parallel Tasks and Concurrency Control\n",
      "        2. Long-Running Processes and Workflow Maintenance\n",
      "    B. Communication Among Agents\n",
      "        1. Node Representation of Agents\n",
      "        2. Edge Definition for Communication\n",
      "\n",
      "IV. Use Cases of Multi-Agent Workflows\n",
      "    A. AI Applications\n",
      "        1. Collaborative Tasks Among Agents\n",
      "        2. Iterative Problem-Solving Approaches\n",
      "    B. Third-Party Applications\n",
      "        1. Examples of Applications Built on Multi-Agent Workflows\n",
      "        2. Benefits and Challenges of Implementing Multi-Agent Workflows\n",
      "\n",
      "V. Future Trends and Considerations\n",
      "    A. Advancements in Multi-Agent Workflow Technologies\n",
      "    B. Potential Impact on Various Industries\n",
      "    C. Ethical and Security Considerations in Multi-Agent Workflows\n",
      "\n",
      "VI. Conclusion\n",
      "    A. Recap of the Importance of Multi-Agent Workflows\n",
      "    B. Summary of Tools, Frameworks, and Use Cases\n",
      "    C. Future Outlook for Multi-Agent Workflows\n",
      "==================================\u001b[1m Ai Message \u001b[0m==================================\n",
      "\n",
      "TITLE: Exploring the World of Multi-Agent Workflows\n",
      "\n",
      "BODY:\n",
      "In today's rapidly evolving technological landscape, the concept of multi-agent workflows has gained significant traction. Multi-agent workflows involve the orchestration, coordination, and communication among multiple agents, whether they are AI entities or other types of agents. These workflows play a crucial role in various applications, enabling collaborative problem-solving, parallel task execution, and long-running processes.\n",
      "\n",
      "Tools and frameworks such as Temporal, LangGraph, and Autogen have emerged as key players in supporting the implementation of multi-agent workflows. Temporal, for instance, acts as a \"conductor\" that manages interactions among different agents by handling orchestration, state management, and coordination. On the other hand, LangGraph provides a platform for creating multi-agent workflows, while Autogen focuses on developing Large Language Model (LLM) applications using multiple conversing agents.\n",
      "\n",
      "Implementing multi-agent workflows involves setting up parallel tasks with concurrency control, ensuring smooth communication among agents, and maintaining workflows over extended periods. Each agent is represented as a node in the workflow, with edges defining how they communicate and pass information. These workflows find applications in AI scenarios where agents collaborate on tasks iteratively, contributing to efficient problem-solving approaches.\n",
      "\n",
      "Use cases of multi-agent workflows span across various industries, with AI applications being a prominent area of focus. Collaborative tasks among agents, iterative problem-solving approaches, and the ability to handle complex processes over time are some of the key benefits of implementing multi-agent workflows. Third-party applications built on top of multi-agent workflow frameworks showcase the versatility and potential of these workflows in real-world scenarios.\n",
      "\n",
      "Looking ahead, the future of multi-agent workflows holds promising advancements in technology, potential impacts on industries, and considerations around ethics and security. As these workflows continue to evolve, they are expected to revolutionize the way tasks are executed, problems are solved, and interactions among agents are managed.\n",
      "\n",
      "In conclusion, the world of multi-agent workflows presents a fascinating realm of possibilities for enhancing collaboration, efficiency, and problem-solving in various applications. With the right tools, frameworks, and implementation strategies, multi-agent workflows have the potential to shape the future of technology and drive innovation across industries.\n"
     ]
    }
   ],
   "source": [
    "from langchain_core.messages import HumanMessage\n",
    "\n",
    "input_message = HumanMessage(content=\"generate an article about multi agentic worflows\")\n",
    "\n",
    "for event in graph.stream({\"messages\": [input_message]}, stream_mode=\"values\"):\n",
    "  event['messages'][-1].pretty_print()"
   ]
  }
 ],
 "metadata": {
  "kernelspec": {
   "display_name": "llm",
   "language": "python",
   "name": "python3"
  },
  "language_info": {
   "codemirror_mode": {
    "name": "ipython",
    "version": 3
   },
   "file_extension": ".py",
   "mimetype": "text/x-python",
   "name": "python",
   "nbconvert_exporter": "python",
   "pygments_lexer": "ipython3",
   "version": "3.11.11"
  }
 },
 "nbformat": 4,
 "nbformat_minor": 2
}
